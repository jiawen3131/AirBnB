{
 "cells": [
  {
   "cell_type": "markdown",
   "id": "301e32c2",
   "metadata": {},
   "source": [
    "# ANOVA"
   ]
  },
  {
   "cell_type": "code",
   "execution_count": 1,
   "id": "07e32585",
   "metadata": {},
   "outputs": [],
   "source": [
    "# outlier function\n",
    "\n",
    "outlierData <- function(data){\n",
    "    quartiles <- quantile(data, probs=c(.25, .75), na.rm = FALSE)    \n",
    "    IQR <- IQR(data)\n",
    "    Lower <- quartiles[1] - 1.5*IQR\n",
    "    Upper <- quartiles[2] + 1.5*IQR \n",
    "    output <- list(Lower, Upper)\n",
    "    return (output)}"
   ]
  },
  {
   "cell_type": "markdown",
   "id": "0c0fcc5a",
   "metadata": {},
   "source": [
    "## Amsterdam"
   ]
  },
  {
   "cell_type": "code",
   "execution_count": 2,
   "id": "6ee1a4db",
   "metadata": {},
   "outputs": [],
   "source": [
    "amsterdam_weekday <- read.csv('amsterdam_weekdays.csv')\n",
    "amsterdam_weekday_private_shared <- subset(amsterdam_weekday, (amsterdam_weekday$room_type=='Private room' | amsterdam_weekday$room_type=='Shared room'))\n",
    "amsterdam_weekday_outlier <- outlierData(amsterdam_weekday_private_shared$realSum)\n",
    "#Remove outliers from dataset\n",
    "amsterdam_weekday_cleaned <- subset(amsterdam_weekday_private_shared, \n",
    "                                      realSum > amsterdam_weekday_outlier[1] &\n",
    "                                      realSum < amsterdam_weekday_outlier[2])\n",
    "keep <- c(\"realSum\")\n",
    "amsterdam_price = amsterdam_weekday_cleaned[,names(amsterdam_weekday_cleaned) %in% keep]\n",
    "amsterdam <- data.frame(\n",
    "    country=\"amsterdam\",\n",
    "    log_price = log(amsterdam_price))"
   ]
  },
  {
   "cell_type": "markdown",
   "id": "0f1b7cc6",
   "metadata": {},
   "source": [
    "## Athens"
   ]
  },
  {
   "cell_type": "code",
   "execution_count": 3,
   "id": "ca835a49",
   "metadata": {},
   "outputs": [],
   "source": [
    "athens_weekday <- read.csv('athens_weekdays.csv')\n",
    "athens_weekday_private_shared <- subset(athens_weekday, (athens_weekday$room_type=='Private room' | athens_weekday$room_type=='Shared room'))\n",
    "athens_weekday_outlier <- outlierData(athens_weekday_private_shared$realSum)\n",
    "#Remove outliers from dataset\n",
    "athens_weekday_cleaned <- subset(athens_weekday_private_shared, \n",
    "                                      realSum > athens_weekday_outlier[1] &\n",
    "                                      realSum < athens_weekday_outlier[2])\n",
    "keep <- c(\"realSum\")\n",
    "athens_price = athens_weekday_cleaned[,names(athens_weekday_cleaned) %in% keep]\n",
    "athens <- data.frame(\n",
    "    country=\"athens\",\n",
    "    log_price = log(athens_price))"
   ]
  },
  {
   "cell_type": "markdown",
   "id": "9f0520f8",
   "metadata": {},
   "source": [
    "## Barcelona"
   ]
  },
  {
   "cell_type": "code",
   "execution_count": 4,
   "id": "0e9e528d",
   "metadata": {},
   "outputs": [],
   "source": [
    "barcelona_weekday <- read.csv('barcelona_weekdays.csv')\n",
    "barcelona_weekday_private_shared <- subset(barcelona_weekday, (barcelona_weekday$room_type=='Private room' | barcelona_weekday$room_type=='Shared room'))\n",
    "barcelona_weekday_outlier <- outlierData(barcelona_weekday_private_shared$realSum)\n",
    "#Remove outliers from dataset\n",
    "barcelona_weekday_cleaned <- subset(barcelona_weekday_private_shared, \n",
    "                                      realSum > barcelona_weekday_outlier[1] &\n",
    "                                      realSum < barcelona_weekday_outlier[2])\n",
    "keep <- c(\"realSum\")\n",
    "barcelona_price = barcelona_weekday_cleaned[,names(barcelona_weekday_cleaned) %in% keep]\n",
    "barcelona <- data.frame(\n",
    "    country=\"barcelona\",\n",
    "    log_price = log(barcelona_price))"
   ]
  },
  {
   "cell_type": "markdown",
   "id": "72d4b77c",
   "metadata": {},
   "source": [
    "## Berlin"
   ]
  },
  {
   "cell_type": "code",
   "execution_count": 5,
   "id": "287bc564",
   "metadata": {},
   "outputs": [],
   "source": [
    "berlin_weekday <- read.csv('berlin_weekdays.csv')\n",
    "berlin_weekday_private_shared <- subset(berlin_weekday, (berlin_weekday$room_type=='Private room' | berlin_weekday$room_type=='Shared room'))\n",
    "berlin_weekday_outlier <- outlierData(berlin_weekday_private_shared$realSum)\n",
    "#Remove outliers from dataset\n",
    "berlin_weekday_cleaned <- subset(berlin_weekday_private_shared, \n",
    "                                      realSum > berlin_weekday_outlier[1] &\n",
    "                                      realSum < berlin_weekday_outlier[2])\n",
    "keep <- c(\"realSum\")\n",
    "berlin_price = berlin_weekday_cleaned[,names(berlin_weekday_cleaned) %in% keep]\n",
    "berlin <- data.frame(\n",
    "    country=\"berlin\",\n",
    "    log_price = log(berlin_price))"
   ]
  },
  {
   "cell_type": "markdown",
   "id": "d91a2a42",
   "metadata": {},
   "source": [
    "## Budapest"
   ]
  },
  {
   "cell_type": "code",
   "execution_count": 6,
   "id": "89a1385c",
   "metadata": {},
   "outputs": [],
   "source": [
    "budapest_weekday <- read.csv('budapest_weekdays.csv')\n",
    "budapest_weekday_private_shared <- subset(budapest_weekday, (budapest_weekday$room_type=='Private room' | budapest_weekday$room_type=='Shared room'))\n",
    "budapest_weekday_outlier <- outlierData(budapest_weekday_private_shared$realSum)\n",
    "#Remove outliers from dataset\n",
    "budapest_weekday_cleaned <- subset(budapest_weekday_private_shared, \n",
    "                                      realSum > budapest_weekday_outlier[1] &\n",
    "                                      realSum < budapest_weekday_outlier[2])\n",
    "keep <- c(\"realSum\")\n",
    "budapest_price = budapest_weekday_cleaned[,names(budapest_weekday_cleaned) %in% keep]\n",
    "budapest <- data.frame(\n",
    "    country=\"budapest\",\n",
    "    log_price = log(budapest_price))"
   ]
  },
  {
   "cell_type": "markdown",
   "id": "1d994df7",
   "metadata": {},
   "source": [
    "## London"
   ]
  },
  {
   "cell_type": "code",
   "execution_count": 7,
   "id": "439cf8c9",
   "metadata": {},
   "outputs": [],
   "source": [
    "london_weekday <- read.csv('london_weekdays.csv')\n",
    "london_weekday_private_shared <- subset(london_weekday, (london_weekday$room_type=='Private room' | london_weekday$room_type=='Shared room'))\n",
    "london_weekday_outlier <- outlierData(london_weekday_private_shared$realSum)\n",
    "#Remove outliers from dataset\n",
    "london_weekday_cleaned <- subset(london_weekday_private_shared, \n",
    "                                      realSum > london_weekday_outlier[1] &\n",
    "                                      realSum < london_weekday_outlier[2])\n",
    "keep <- c(\"realSum\")\n",
    "london_price = london_weekday_cleaned[,names(london_weekday_cleaned) %in% keep]\n",
    "london <- data.frame(\n",
    "    country=\"london\",\n",
    "    log_price = log(london_price))"
   ]
  },
  {
   "cell_type": "markdown",
   "id": "87e7fd96",
   "metadata": {},
   "source": [
    "## Paris"
   ]
  },
  {
   "cell_type": "code",
   "execution_count": 8,
   "id": "d2eb7c02",
   "metadata": {},
   "outputs": [],
   "source": [
    "paris_weekday <- read.csv('paris_weekdays.csv')\n",
    "paris_weekday_private_shared <- subset(paris_weekday, (paris_weekday$room_type=='Private room' | paris_weekday$room_type=='Shared room'))\n",
    "paris_weekday_outlier <- outlierData(paris_weekday_private_shared$realSum)\n",
    "#Remove outliers from dataset\n",
    "paris_weekday_cleaned <- subset(paris_weekday_private_shared, \n",
    "                                      realSum > paris_weekday_outlier[1] &\n",
    "                                      realSum < paris_weekday_outlier[2])\n",
    "keep <- c(\"realSum\")\n",
    "paris_price = paris_weekday_cleaned[,names(paris_weekday_cleaned) %in% keep]\n",
    "paris <- data.frame(\n",
    "    country=\"paris\",\n",
    "    log_price = log(paris_price))"
   ]
  },
  {
   "cell_type": "markdown",
   "id": "8e87163f",
   "metadata": {},
   "source": [
    "## Lisbon"
   ]
  },
  {
   "cell_type": "code",
   "execution_count": 9,
   "id": "de40c333",
   "metadata": {},
   "outputs": [],
   "source": [
    "lisbon_weekday <- read.csv('lisbon_weekdays.csv')\n",
    "lisbon_weekday_private_shared <- subset(lisbon_weekday, (lisbon_weekday$room_type=='Private room' | lisbon_weekday$room_type=='Shared room'))\n",
    "lisbon_weekday_outlier <- outlierData(lisbon_weekday_private_shared$realSum)\n",
    "#Remove outliers from dataset\n",
    "lisbon_weekday_cleaned <- subset(lisbon_weekday_private_shared, \n",
    "                                      realSum > lisbon_weekday_outlier[1] &\n",
    "                                      realSum < lisbon_weekday_outlier[2])\n",
    "keep <- c(\"realSum\")\n",
    "lisbon_price = lisbon_weekday_cleaned[,names(lisbon_weekday_cleaned) %in% keep]\n",
    "lisbon <- data.frame(\n",
    "    country=\"lisbon\",\n",
    "    log_price = log(lisbon_price))"
   ]
  },
  {
   "cell_type": "markdown",
   "id": "90acc781",
   "metadata": {},
   "source": [
    "## Rome"
   ]
  },
  {
   "cell_type": "code",
   "execution_count": 10,
   "id": "d8909e9d",
   "metadata": {},
   "outputs": [],
   "source": [
    "rome_weekday <- read.csv('rome_weekdays.csv')\n",
    "rome_weekday_private_shared <- subset(rome_weekday, (rome_weekday$room_type=='Private room' | rome_weekday$room_type=='Shared room'))\n",
    "rome_weekday_outlier <- outlierData(rome_weekday_private_shared$realSum)\n",
    "#Remove outliers from dataset\n",
    "rome_weekday_cleaned <- subset(rome_weekday_private_shared, \n",
    "                                      realSum > rome_weekday_outlier[1] &\n",
    "                                      realSum < rome_weekday_outlier[2])\n",
    "keep <- c(\"realSum\")\n",
    "rome_price = rome_weekday_cleaned[,names(rome_weekday_cleaned) %in% keep]\n",
    "rome <- data.frame(\n",
    "    country=\"rome\",\n",
    "    log_price = log(rome_price))"
   ]
  },
  {
   "cell_type": "markdown",
   "id": "9996406d",
   "metadata": {},
   "source": [
    "## Vienna"
   ]
  },
  {
   "cell_type": "code",
   "execution_count": 11,
   "id": "f7ad20db",
   "metadata": {},
   "outputs": [],
   "source": [
    "vienna_weekday <- read.csv('vienna_weekdays.csv')\n",
    "vienna_weekday_private_shared <- subset(vienna_weekday, (vienna_weekday$room_type=='Private room' | vienna_weekday$room_type=='Shared room'))\n",
    "vienna_weekday_outlier <- outlierData(vienna_weekday_private_shared$realSum)\n",
    "#Remove outliers from dataset\n",
    "vienna_weekday_cleaned <- subset(vienna_weekday_private_shared, \n",
    "                                      realSum > vienna_weekday_outlier[1] &\n",
    "                                      realSum < vienna_weekday_outlier[2])\n",
    "keep <- c(\"realSum\")\n",
    "vienna_price = vienna_weekday_cleaned[,names(vienna_weekday_cleaned) %in% keep]\n",
    "vienna <- data.frame(\n",
    "    country=\"vienna\",\n",
    "    log_price = log(vienna_price))"
   ]
  },
  {
   "cell_type": "markdown",
   "id": "16bdb949",
   "metadata": {},
   "source": [
    "# Plotting the Boxplots"
   ]
  },
  {
   "cell_type": "code",
   "execution_count": 12,
   "id": "4b5c9402",
   "metadata": {},
   "outputs": [
    {
     "data": {
      "text/html": [
       "<table>\n",
       "<thead><tr><th scope=col>country</th><th scope=col>log_price</th></tr></thead>\n",
       "<tbody>\n",
       "\t<tr><td>amsterdam</td><td>5.268032 </td></tr>\n",
       "\t<tr><td>amsterdam</td><td>5.841356 </td></tr>\n",
       "\t<tr><td>amsterdam</td><td>5.576333 </td></tr>\n",
       "\t<tr><td>amsterdam</td><td>6.071960 </td></tr>\n",
       "\t<tr><td>amsterdam</td><td>6.185288 </td></tr>\n",
       "\t<tr><td>amsterdam</td><td>6.315012 </td></tr>\n",
       "</tbody>\n",
       "</table>\n"
      ],
      "text/latex": [
       "\\begin{tabular}{r|ll}\n",
       " country & log\\_price\\\\\n",
       "\\hline\n",
       "\t amsterdam & 5.268032 \\\\\n",
       "\t amsterdam & 5.841356 \\\\\n",
       "\t amsterdam & 5.576333 \\\\\n",
       "\t amsterdam & 6.071960 \\\\\n",
       "\t amsterdam & 6.185288 \\\\\n",
       "\t amsterdam & 6.315012 \\\\\n",
       "\\end{tabular}\n"
      ],
      "text/markdown": [
       "\n",
       "| country | log_price |\n",
       "|---|---|\n",
       "| amsterdam | 5.268032  |\n",
       "| amsterdam | 5.841356  |\n",
       "| amsterdam | 5.576333  |\n",
       "| amsterdam | 6.071960  |\n",
       "| amsterdam | 6.185288  |\n",
       "| amsterdam | 6.315012  |\n",
       "\n"
      ],
      "text/plain": [
       "  country   log_price\n",
       "1 amsterdam 5.268032 \n",
       "2 amsterdam 5.841356 \n",
       "3 amsterdam 5.576333 \n",
       "4 amsterdam 6.071960 \n",
       "5 amsterdam 6.185288 \n",
       "6 amsterdam 6.315012 "
      ]
     },
     "metadata": {},
     "output_type": "display_data"
    }
   ],
   "source": [
    "combined_df <- rbind(amsterdam, athens, barcelona, berlin, budapest, london, lisbon, paris, rome, vienna)\n",
    "head(combined_df)"
   ]
  },
  {
   "cell_type": "code",
   "execution_count": 13,
   "id": "d6a8fb68",
   "metadata": {},
   "outputs": [
    {
     "data": {
      "image/png": "[encoded data removed]",
      "text/plain": [
       "plot without title"
      ]
     },
     "metadata": {},
     "output_type": "display_data"
    }
   ],
   "source": [
    "mycolours <- ifelse(levels(combined_df$country)== \"london\", rgb(0.56,0.74,0.56,0.5), \n",
    "                  \"powderblue\")\n",
    "boxplot(combined_df$log_price ~ combined_df$country, col=mycolours, ylab='price', xlab='', las=2)\n",
    "Xbar <- mean(combined_df$log_price)\n",
    "abline(h=Xbar, col='hotpink', lwd=2)"
   ]
  },
  {
   "cell_type": "code",
   "execution_count": 14,
   "id": "e9fb3f8e",
   "metadata": {},
   "outputs": [
    {
     "data": {
      "text/plain": [
       "Call:\n",
       "   aov(formula = combined_df$log_price ~ combined_df$country)\n",
       "\n",
       "Terms:\n",
       "                combined_df$country Residuals\n",
       "Sum of Squares             682.7562  881.8392\n",
       "Deg. of Freedom                   9      8968\n",
       "\n",
       "Residual standard error: 0.313579\n",
       "Estimated effects may be unbalanced"
      ]
     },
     "metadata": {},
     "output_type": "display_data"
    }
   ],
   "source": [
    "aov(combined_df$log_price ~ combined_df$country)"
   ]
  },
  {
   "cell_type": "code",
   "execution_count": 15,
   "id": "9659b894",
   "metadata": {},
   "outputs": [
    {
     "data": {
      "text/plain": [
       "                      Df Sum Sq Mean Sq F value Pr(>F)    \n",
       "combined_df$country    9  682.8   75.86   771.5 <2e-16 ***\n",
       "Residuals           8968  881.8    0.10                   \n",
       "---\n",
       "Signif. codes:  0 '***' 0.001 '**' 0.01 '*' 0.05 '.' 0.1 ' ' 1"
      ]
     },
     "metadata": {},
     "output_type": "display_data"
    }
   ],
   "source": [
    "summary(aov(combined_df$log_price ~ combined_df$country))"
   ]
  },
  {
   "cell_type": "code",
   "execution_count": 16,
   "id": "fbbdd294",
   "metadata": {},
   "outputs": [
    {
     "data": {
      "text/plain": [
       "\n",
       "\tPairwise comparisons using t tests with pooled SD \n",
       "\n",
       "data:  combined_df$log_price and combined_df$country \n",
       "\n",
       "          amsterdam athens  barcelona berlin  budapest london  lisbon  paris  \n",
       "athens    < 2e-16   -       -         -       -        -       -       -      \n",
       "barcelona < 2e-16   < 2e-16 -         -       -        -       -       -      \n",
       "berlin    < 2e-16   < 2e-16 < 2e-16   -       -        -       -       -      \n",
       "budapest  < 2e-16   0.00197 < 2e-16   < 2e-16 -        -       -       -      \n",
       "london    < 2e-16   < 2e-16 0.00039   < 2e-16 < 2e-16  -       -       -      \n",
       "lisbon    < 2e-16   < 2e-16 < 2e-16   < 2e-16 < 2e-16  < 2e-16 -       -      \n",
       "paris     < 2e-16   < 2e-16 < 2e-16   < 2e-16 < 2e-16  < 2e-16 < 2e-16 -      \n",
       "rome      < 2e-16   < 2e-16 < 2e-16   < 2e-16 < 2e-16  < 2e-16 0.00051 < 2e-16\n",
       "vienna    < 2e-16   < 2e-16 < 2e-16   2.9e-08 < 2e-16  < 2e-16 0.36636 < 2e-16\n",
       "          rome   \n",
       "athens    -      \n",
       "barcelona -      \n",
       "berlin    -      \n",
       "budapest  -      \n",
       "london    -      \n",
       "lisbon    -      \n",
       "paris     -      \n",
       "rome      -      \n",
       "vienna    0.00053\n",
       "\n",
       "P value adjustment method: none "
      ]
     },
     "metadata": {},
     "output_type": "display_data"
    }
   ],
   "source": [
    "pairwise.t.test(combined_df$log_price, combined_df$country, p.adjust.method='none')"
   ]
  },
  {
   "cell_type": "code",
   "execution_count": null,
   "id": "d285fc57",
   "metadata": {},
   "outputs": [],
   "source": []
  }
 ],
 "metadata": {
  "kernelspec": {
   "display_name": "R",
   "language": "R",
   "name": "ir"
  },
  "language_info": {
   "codemirror_mode": "r",
   "file_extension": ".r",
   "mimetype": "text/x-r-source",
   "name": "R",
   "pygments_lexer": "r",
   "version": "3.6.1"
  }
 },
 "nbformat": 4,
 "nbformat_minor": 5
}
