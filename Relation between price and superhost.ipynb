{
 "cells": [
  {
   "cell_type": "markdown",
   "id": "32937deb",
   "metadata": {},
   "source": [
    "## Import data"
   ]
  },
  {
   "cell_type": "code",
   "execution_count": 1,
   "id": "b5cac1fe",
   "metadata": {},
   "outputs": [],
   "source": [
    "london <- read.csv('london_weekday_cleaned_final.csv')"
   ]
  },
  {
   "cell_type": "code",
   "execution_count": 3,
   "id": "f3e70b77",
   "metadata": {},
   "outputs": [
    {
     "data": {
      "text/html": [
       "<table>\n",
       "<thead><tr><th scope=col>X</th><th scope=col>realSum</th><th scope=col>room_type</th><th scope=col>room_shared</th><th scope=col>room_private</th><th scope=col>person_capacity</th><th scope=col>host_is_superhost</th><th scope=col>multi</th><th scope=col>biz</th><th scope=col>cleanliness_rating</th><th scope=col>guest_satisfaction_overall</th><th scope=col>bedrooms</th><th scope=col>dist</th><th scope=col>metro_dist</th><th scope=col>attr_index</th><th scope=col>attr_index_norm</th><th scope=col>rest_index</th><th scope=col>rest_index_norm</th><th scope=col>lng</th><th scope=col>lat</th></tr></thead>\n",
       "<tbody>\n",
       "\t<tr><td>1           </td><td>297.9844    </td><td>Private room</td><td>False       </td><td>True        </td><td>2           </td><td>True        </td><td>1           </td><td>0           </td><td>10          </td><td> 99         </td><td>1           </td><td>2.198946    </td><td>0.3792620   </td><td>553.8917    </td><td>38.50163    </td><td>961.4721    </td><td>17.215961   </td><td>-0.09683    </td><td>51.50343    </td></tr>\n",
       "\t<tr><td>2           </td><td>336.7906    </td><td>Private room</td><td>False       </td><td>True        </td><td>2           </td><td>False       </td><td>1           </td><td>0           </td><td>10          </td><td> 96         </td><td>1           </td><td>2.322958    </td><td>0.4531776   </td><td>428.2878    </td><td>29.77076    </td><td>959.0428    </td><td>17.172462   </td><td>-0.10554    </td><td>51.52407    </td></tr>\n",
       "\t<tr><td>3           </td><td>226.7222    </td><td>Private room</td><td>False       </td><td>True        </td><td>2           </td><td>True        </td><td>1           </td><td>0           </td><td>10          </td><td> 99         </td><td>1           </td><td>5.707825    </td><td>1.7239771   </td><td>195.6947    </td><td>13.60296    </td><td>452.2325    </td><td> 8.097600   </td><td>-0.16575    </td><td>51.46292    </td></tr>\n",
       "\t<tr><td>4           </td><td>256.3560    </td><td>Private room</td><td>False       </td><td>True        </td><td>3           </td><td>False       </td><td>0           </td><td>0           </td><td> 9          </td><td> 98         </td><td>1           </td><td>3.257945    </td><td>0.8254172   </td><td>329.4771    </td><td>22.90232    </td><td>735.3273    </td><td>13.166649   </td><td>-0.12055    </td><td>51.53728    </td></tr>\n",
       "\t<tr><td>5           </td><td>239.8928    </td><td>Private room</td><td>False       </td><td>True        </td><td>2           </td><td>False       </td><td>0           </td><td>0           </td><td>10          </td><td>100         </td><td>1           </td><td>5.085730    </td><td>1.8062181   </td><td>226.7250    </td><td>15.75990    </td><td>486.7371    </td><td> 8.715433   </td><td>-0.17241    </td><td>51.47222    </td></tr>\n",
       "\t<tr><td>6           </td><td>324.0904    </td><td>Private room</td><td>False       </td><td>True        </td><td>2           </td><td>False       </td><td>0           </td><td>0           </td><td>10          </td><td>100         </td><td>1           </td><td>4.595055    </td><td>0.2968787   </td><td>283.4426    </td><td>19.70241    </td><td>682.1867    </td><td>12.215122   </td><td>-0.19359    </td><td>51.51061    </td></tr>\n",
       "</tbody>\n",
       "</table>\n"
      ],
      "text/latex": [
       "\\begin{tabular}{r|llllllllllllllllllll}\n",
       " X & realSum & room\\_type & room\\_shared & room\\_private & person\\_capacity & host\\_is\\_superhost & multi & biz & cleanliness\\_rating & guest\\_satisfaction\\_overall & bedrooms & dist & metro\\_dist & attr\\_index & attr\\_index\\_norm & rest\\_index & rest\\_index\\_norm & lng & lat\\\\\n",
       "\\hline\n",
       "\t 1            & 297.9844     & Private room & False        & True         & 2            & True         & 1            & 0            & 10           &  99          & 1            & 2.198946     & 0.3792620    & 553.8917     & 38.50163     & 961.4721     & 17.215961    & -0.09683     & 51.50343    \\\\\n",
       "\t 2            & 336.7906     & Private room & False        & True         & 2            & False        & 1            & 0            & 10           &  96          & 1            & 2.322958     & 0.4531776    & 428.2878     & 29.77076     & 959.0428     & 17.172462    & -0.10554     & 51.52407    \\\\\n",
       "\t 3            & 226.7222     & Private room & False        & True         & 2            & True         & 1            & 0            & 10           &  99          & 1            & 5.707825     & 1.7239771    & 195.6947     & 13.60296     & 452.2325     &  8.097600    & -0.16575     & 51.46292    \\\\\n",
       "\t 4            & 256.3560     & Private room & False        & True         & 3            & False        & 0            & 0            &  9           &  98          & 1            & 3.257945     & 0.8254172    & 329.4771     & 22.90232     & 735.3273     & 13.166649    & -0.12055     & 51.53728    \\\\\n",
       "\t 5            & 239.8928     & Private room & False        & True         & 2            & False        & 0            & 0            & 10           & 100          & 1            & 5.085730     & 1.8062181    & 226.7250     & 15.75990     & 486.7371     &  8.715433    & -0.17241     & 51.47222    \\\\\n",
       "\t 6            & 324.0904     & Private room & False        & True         & 2            & False        & 0            & 0            & 10           & 100          & 1            & 4.595055     & 0.2968787    & 283.4426     & 19.70241     & 682.1867     & 12.215122    & -0.19359     & 51.51061    \\\\\n",
       "\\end{tabular}\n"
      ],
      "text/markdown": [
       "\n",
       "| X | realSum | room_type | room_shared | room_private | person_capacity | host_is_superhost | multi | biz | cleanliness_rating | guest_satisfaction_overall | bedrooms | dist | metro_dist | attr_index | attr_index_norm | rest_index | rest_index_norm | lng | lat |\n",
       "|---|---|---|---|---|---|---|---|---|---|---|---|---|---|---|---|---|---|---|---|\n",
       "| 1            | 297.9844     | Private room | False        | True         | 2            | True         | 1            | 0            | 10           |  99          | 1            | 2.198946     | 0.3792620    | 553.8917     | 38.50163     | 961.4721     | 17.215961    | -0.09683     | 51.50343     |\n",
       "| 2            | 336.7906     | Private room | False        | True         | 2            | False        | 1            | 0            | 10           |  96          | 1            | 2.322958     | 0.4531776    | 428.2878     | 29.77076     | 959.0428     | 17.172462    | -0.10554     | 51.52407     |\n",
       "| 3            | 226.7222     | Private room | False        | True         | 2            | True         | 1            | 0            | 10           |  99          | 1            | 5.707825     | 1.7239771    | 195.6947     | 13.60296     | 452.2325     |  8.097600    | -0.16575     | 51.46292     |\n",
       "| 4            | 256.3560     | Private room | False        | True         | 3            | False        | 0            | 0            |  9           |  98          | 1            | 3.257945     | 0.8254172    | 329.4771     | 22.90232     | 735.3273     | 13.166649    | -0.12055     | 51.53728     |\n",
       "| 5            | 239.8928     | Private room | False        | True         | 2            | False        | 0            | 0            | 10           | 100          | 1            | 5.085730     | 1.8062181    | 226.7250     | 15.75990     | 486.7371     |  8.715433    | -0.17241     | 51.47222     |\n",
       "| 6            | 324.0904     | Private room | False        | True         | 2            | False        | 0            | 0            | 10           | 100          | 1            | 4.595055     | 0.2968787    | 283.4426     | 19.70241     | 682.1867     | 12.215122    | -0.19359     | 51.51061     |\n",
       "\n"
      ],
      "text/plain": [
       "  X realSum  room_type    room_shared room_private person_capacity\n",
       "1 1 297.9844 Private room False       True         2              \n",
       "2 2 336.7906 Private room False       True         2              \n",
       "3 3 226.7222 Private room False       True         2              \n",
       "4 4 256.3560 Private room False       True         3              \n",
       "5 5 239.8928 Private room False       True         2              \n",
       "6 6 324.0904 Private room False       True         2              \n",
       "  host_is_superhost multi biz cleanliness_rating guest_satisfaction_overall\n",
       "1 True              1     0   10                  99                       \n",
       "2 False             1     0   10                  96                       \n",
       "3 True              1     0   10                  99                       \n",
       "4 False             0     0    9                  98                       \n",
       "5 False             0     0   10                 100                       \n",
       "6 False             0     0   10                 100                       \n",
       "  bedrooms dist     metro_dist attr_index attr_index_norm rest_index\n",
       "1 1        2.198946 0.3792620  553.8917   38.50163        961.4721  \n",
       "2 1        2.322958 0.4531776  428.2878   29.77076        959.0428  \n",
       "3 1        5.707825 1.7239771  195.6947   13.60296        452.2325  \n",
       "4 1        3.257945 0.8254172  329.4771   22.90232        735.3273  \n",
       "5 1        5.085730 1.8062181  226.7250   15.75990        486.7371  \n",
       "6 1        4.595055 0.2968787  283.4426   19.70241        682.1867  \n",
       "  rest_index_norm lng      lat     \n",
       "1 17.215961       -0.09683 51.50343\n",
       "2 17.172462       -0.10554 51.52407\n",
       "3  8.097600       -0.16575 51.46292\n",
       "4 13.166649       -0.12055 51.53728\n",
       "5  8.715433       -0.17241 51.47222\n",
       "6 12.215122       -0.19359 51.51061"
      ]
     },
     "metadata": {},
     "output_type": "display_data"
    }
   ],
   "source": [
    "head(london)"
   ]
  },
  {
   "cell_type": "code",
   "execution_count": 5,
   "id": "62e3dee8",
   "metadata": {},
   "outputs": [
    {
     "data": {
      "text/html": [
       "<table>\n",
       "<thead><tr><th scope=col>realSum</th><th scope=col>host_is_superhost</th></tr></thead>\n",
       "<tbody>\n",
       "\t<tr><td>297.9844</td><td>True    </td></tr>\n",
       "\t<tr><td>336.7906</td><td>False   </td></tr>\n",
       "\t<tr><td>226.7222</td><td>True    </td></tr>\n",
       "\t<tr><td>256.3560</td><td>False   </td></tr>\n",
       "\t<tr><td>239.8928</td><td>False   </td></tr>\n",
       "\t<tr><td>324.0904</td><td>False   </td></tr>\n",
       "</tbody>\n",
       "</table>\n"
      ],
      "text/latex": [
       "\\begin{tabular}{r|ll}\n",
       " realSum & host\\_is\\_superhost\\\\\n",
       "\\hline\n",
       "\t 297.9844 & True    \\\\\n",
       "\t 336.7906 & False   \\\\\n",
       "\t 226.7222 & True    \\\\\n",
       "\t 256.3560 & False   \\\\\n",
       "\t 239.8928 & False   \\\\\n",
       "\t 324.0904 & False   \\\\\n",
       "\\end{tabular}\n"
      ],
      "text/markdown": [
       "\n",
       "| realSum | host_is_superhost |\n",
       "|---|---|\n",
       "| 297.9844 | True     |\n",
       "| 336.7906 | False    |\n",
       "| 226.7222 | True     |\n",
       "| 256.3560 | False    |\n",
       "| 239.8928 | False    |\n",
       "| 324.0904 | False    |\n",
       "\n"
      ],
      "text/plain": [
       "  realSum  host_is_superhost\n",
       "1 297.9844 True             \n",
       "2 336.7906 False            \n",
       "3 226.7222 True             \n",
       "4 256.3560 False            \n",
       "5 239.8928 False            \n",
       "6 324.0904 False            "
      ]
     },
     "metadata": {},
     "output_type": "display_data"
    }
   ],
   "source": [
    "keep <- c(\"realSum\", \"host_is_superhost\")\n",
    "london_data = london[,names(london) %in% keep]\n",
    "head(london_data)"
   ]
  },
  {
   "cell_type": "markdown",
   "id": "c410846a",
   "metadata": {},
   "source": [
    "### Filter data: Superhost vs Non superhost"
   ]
  },
  {
   "cell_type": "code",
   "execution_count": 7,
   "id": "e1720afe",
   "metadata": {},
   "outputs": [
    {
     "data": {
      "text/html": [
       "<table>\n",
       "<thead><tr><th></th><th scope=col>realSum</th><th scope=col>host_is_superhost</th></tr></thead>\n",
       "<tbody>\n",
       "\t<tr><th scope=row>1</th><td>297.9844</td><td>True    </td></tr>\n",
       "\t<tr><th scope=row>3</th><td>226.7222</td><td>True    </td></tr>\n",
       "\t<tr><th scope=row>10</th><td>285.0490</td><td>True    </td></tr>\n",
       "\t<tr><th scope=row>13</th><td>207.4367</td><td>True    </td></tr>\n",
       "\t<tr><th scope=row>15</th><td>206.0255</td><td>True    </td></tr>\n",
       "\t<tr><th scope=row>16</th><td>213.5516</td><td>True    </td></tr>\n",
       "</tbody>\n",
       "</table>\n"
      ],
      "text/latex": [
       "\\begin{tabular}{r|ll}\n",
       "  & realSum & host\\_is\\_superhost\\\\\n",
       "\\hline\n",
       "\t1 & 297.9844 & True    \\\\\n",
       "\t3 & 226.7222 & True    \\\\\n",
       "\t10 & 285.0490 & True    \\\\\n",
       "\t13 & 207.4367 & True    \\\\\n",
       "\t15 & 206.0255 & True    \\\\\n",
       "\t16 & 213.5516 & True    \\\\\n",
       "\\end{tabular}\n"
      ],
      "text/markdown": [
       "\n",
       "| <!--/--> | realSum | host_is_superhost |\n",
       "|---|---|---|\n",
       "| 1 | 297.9844 | True     |\n",
       "| 3 | 226.7222 | True     |\n",
       "| 10 | 285.0490 | True     |\n",
       "| 13 | 207.4367 | True     |\n",
       "| 15 | 206.0255 | True     |\n",
       "| 16 | 213.5516 | True     |\n",
       "\n"
      ],
      "text/plain": [
       "   realSum  host_is_superhost\n",
       "1  297.9844 True             \n",
       "3  226.7222 True             \n",
       "10 285.0490 True             \n",
       "13 207.4367 True             \n",
       "15 206.0255 True             \n",
       "16 213.5516 True             "
      ]
     },
     "metadata": {},
     "output_type": "display_data"
    },
    {
     "data": {
      "text/html": [
       "<table>\n",
       "<thead><tr><th></th><th scope=col>realSum</th><th scope=col>host_is_superhost</th></tr></thead>\n",
       "<tbody>\n",
       "\t<tr><th scope=row>2</th><td>336.7906</td><td>False   </td></tr>\n",
       "\t<tr><th scope=row>4</th><td>256.3560</td><td>False   </td></tr>\n",
       "\t<tr><th scope=row>5</th><td>239.8928</td><td>False   </td></tr>\n",
       "\t<tr><th scope=row>6</th><td>324.0904</td><td>False   </td></tr>\n",
       "\t<tr><th scope=row>7</th><td>155.6951</td><td>False   </td></tr>\n",
       "\t<tr><th scope=row>8</th><td>129.3539</td><td>False   </td></tr>\n",
       "</tbody>\n",
       "</table>\n"
      ],
      "text/latex": [
       "\\begin{tabular}{r|ll}\n",
       "  & realSum & host\\_is\\_superhost\\\\\n",
       "\\hline\n",
       "\t2 & 336.7906 & False   \\\\\n",
       "\t4 & 256.3560 & False   \\\\\n",
       "\t5 & 239.8928 & False   \\\\\n",
       "\t6 & 324.0904 & False   \\\\\n",
       "\t7 & 155.6951 & False   \\\\\n",
       "\t8 & 129.3539 & False   \\\\\n",
       "\\end{tabular}\n"
      ],
      "text/markdown": [
       "\n",
       "| <!--/--> | realSum | host_is_superhost |\n",
       "|---|---|---|\n",
       "| 2 | 336.7906 | False    |\n",
       "| 4 | 256.3560 | False    |\n",
       "| 5 | 239.8928 | False    |\n",
       "| 6 | 324.0904 | False    |\n",
       "| 7 | 155.6951 | False    |\n",
       "| 8 | 129.3539 | False    |\n",
       "\n"
      ],
      "text/plain": [
       "  realSum  host_is_superhost\n",
       "2 336.7906 False            \n",
       "4 256.3560 False            \n",
       "5 239.8928 False            \n",
       "6 324.0904 False            \n",
       "7 155.6951 False            \n",
       "8 129.3539 False            "
      ]
     },
     "metadata": {},
     "output_type": "display_data"
    }
   ],
   "source": [
    "london_superhost <- subset(london_data, host_is_superhost=='True')\n",
    "london_notsuperhost <- subset(london_data, host_is_superhost=='False')\n",
    "head(london_superhost)\n",
    "head(london_notsuperhost)"
   ]
  },
  {
   "cell_type": "markdown",
   "id": "2d0f14bd",
   "metadata": {},
   "source": [
    "### Generate scatter and box plots"
   ]
  },
  {
   "cell_type": "code",
   "execution_count": 10,
   "id": "ab34d393",
   "metadata": {},
   "outputs": [
    {
     "data": {
      "image/png": "[encoded data removed]",
      "text/plain": [
       "plot without title"
      ]
     },
     "metadata": {},
     "output_type": "display_data"
    }
   ],
   "source": [
    "par(mfrow=c(1,1))\n",
    "boxplot(log(london_data$realSum)~london_data$host_is_superhost, col = \"cornflowerblue\", xlab = \"Superhost\", ylab = \"Log(Price)\" )"
   ]
  },
  {
   "cell_type": "markdown",
   "id": "16c74d3f",
   "metadata": {},
   "source": [
    "### Test variances"
   ]
  },
  {
   "cell_type": "code",
   "execution_count": 11,
   "id": "c33087b8",
   "metadata": {},
   "outputs": [
    {
     "data": {
      "text/plain": [
       "\n",
       "\tF test to compare two variances\n",
       "\n",
       "data:  log(london_data$realSum) by london_data$host_is_superhost\n",
       "F = 1.0797, num df = 2026, denom df = 453, p-value = 0.3083\n",
       "alternative hypothesis: true ratio of variances is not equal to 1\n",
       "95 percent confidence interval:\n",
       " 0.9315838 1.2430031\n",
       "sample estimates:\n",
       "ratio of variances \n",
       "          1.079688 \n"
      ]
     },
     "metadata": {},
     "output_type": "display_data"
    }
   ],
   "source": [
    "var.test(log(london_data$realSum)~london_data$host_is_superhost)"
   ]
  },
  {
   "cell_type": "markdown",
   "id": "90b48634",
   "metadata": {},
   "source": [
    "At the 0.05 significance level, we do not have enough evidence to reject H0 as the p-value of 0.3083 > 0.05, hence, the variances are taken to be the same"
   ]
  },
  {
   "cell_type": "markdown",
   "id": "28d60ae4",
   "metadata": {},
   "source": [
    "### Test means"
   ]
  },
  {
   "cell_type": "code",
   "execution_count": 14,
   "id": "409eef25",
   "metadata": {},
   "outputs": [
    {
     "data": {
      "text/plain": [
       "\n",
       "\tTwo Sample t-test\n",
       "\n",
       "data:  log(london_data$realSum) by london_data$host_is_superhost\n",
       "t = -5.3435, df = 2479, p-value = 9.946e-08\n",
       "alternative hypothesis: true difference in means is not equal to 0\n",
       "95 percent confidence interval:\n",
       " -0.12419601 -0.05751385\n",
       "sample estimates:\n",
       "mean in group False  mean in group True \n",
       "           5.138328            5.229183 \n"
      ]
     },
     "metadata": {},
     "output_type": "display_data"
    }
   ],
   "source": [
    "t.test(log(london_data$realSum)~london_data$host_is_superhost, var.equal=TRUE)"
   ]
  },
  {
   "cell_type": "markdown",
   "id": "6db12674",
   "metadata": {},
   "source": [
    "As p-value is extremely small and below 0.05, we can reject H0 that the difference between the means is the same and conclude that the difference between the mean price of Airbnb differs, based on whether the host is a superhost or not"
   ]
  },
  {
   "cell_type": "code",
   "execution_count": null,
   "id": "83b4eca3",
   "metadata": {},
   "outputs": [],
   "source": []
  }
 ],
 "metadata": {
  "kernelspec": {
   "display_name": "R",
   "language": "R",
   "name": "ir"
  },
  "language_info": {
   "codemirror_mode": "r",
   "file_extension": ".r",
   "mimetype": "text/x-r-source",
   "name": "R",
   "pygments_lexer": "r",
   "version": "3.6.1"
  }
 },
 "nbformat": 4,
 "nbformat_minor": 5
}
