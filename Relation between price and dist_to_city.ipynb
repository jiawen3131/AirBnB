{
 "cells": [
  {
   "cell_type": "code",
   "execution_count": 1,
   "metadata": {},
   "outputs": [],
   "source": [
    "london <- read.csv('london_weekday_cleaned_final.csv')"
   ]
  },
  {
   "cell_type": "code",
   "execution_count": 2,
   "metadata": {},
   "outputs": [
    {
     "data": {
      "text/html": [
       "<table>\n",
       "<thead><tr><th scope=col>X</th><th scope=col>realSum</th><th scope=col>room_type</th><th scope=col>room_shared</th><th scope=col>room_private</th><th scope=col>person_capacity</th><th scope=col>host_is_superhost</th><th scope=col>multi</th><th scope=col>biz</th><th scope=col>cleanliness_rating</th><th scope=col>guest_satisfaction_overall</th><th scope=col>bedrooms</th><th scope=col>dist</th><th scope=col>metro_dist</th><th scope=col>attr_index</th><th scope=col>attr_index_norm</th><th scope=col>rest_index</th><th scope=col>rest_index_norm</th><th scope=col>lng</th><th scope=col>lat</th></tr></thead>\n",
       "<tbody>\n",
       "\t<tr><td>1           </td><td>297.9844    </td><td>Private room</td><td>False       </td><td>True        </td><td>2           </td><td>True        </td><td>1           </td><td>0           </td><td>10          </td><td> 99         </td><td>1           </td><td>2.198946    </td><td>0.3792620   </td><td>553.8917    </td><td>38.50163    </td><td>961.4721    </td><td>17.215961   </td><td>-0.09683    </td><td>51.50343    </td></tr>\n",
       "\t<tr><td>2           </td><td>336.7906    </td><td>Private room</td><td>False       </td><td>True        </td><td>2           </td><td>False       </td><td>1           </td><td>0           </td><td>10          </td><td> 96         </td><td>1           </td><td>2.322958    </td><td>0.4531776   </td><td>428.2878    </td><td>29.77076    </td><td>959.0428    </td><td>17.172462   </td><td>-0.10554    </td><td>51.52407    </td></tr>\n",
       "\t<tr><td>3           </td><td>226.7222    </td><td>Private room</td><td>False       </td><td>True        </td><td>2           </td><td>True        </td><td>1           </td><td>0           </td><td>10          </td><td> 99         </td><td>1           </td><td>5.707825    </td><td>1.7239771   </td><td>195.6947    </td><td>13.60296    </td><td>452.2325    </td><td> 8.097600   </td><td>-0.16575    </td><td>51.46292    </td></tr>\n",
       "\t<tr><td>4           </td><td>256.3560    </td><td>Private room</td><td>False       </td><td>True        </td><td>3           </td><td>False       </td><td>0           </td><td>0           </td><td> 9          </td><td> 98         </td><td>1           </td><td>3.257945    </td><td>0.8254172   </td><td>329.4771    </td><td>22.90232    </td><td>735.3273    </td><td>13.166649   </td><td>-0.12055    </td><td>51.53728    </td></tr>\n",
       "\t<tr><td>5           </td><td>239.8928    </td><td>Private room</td><td>False       </td><td>True        </td><td>2           </td><td>False       </td><td>0           </td><td>0           </td><td>10          </td><td>100         </td><td>1           </td><td>5.085730    </td><td>1.8062181   </td><td>226.7250    </td><td>15.75990    </td><td>486.7371    </td><td> 8.715433   </td><td>-0.17241    </td><td>51.47222    </td></tr>\n",
       "\t<tr><td>6           </td><td>324.0904    </td><td>Private room</td><td>False       </td><td>True        </td><td>2           </td><td>False       </td><td>0           </td><td>0           </td><td>10          </td><td>100         </td><td>1           </td><td>4.595055    </td><td>0.2968787   </td><td>283.4426    </td><td>19.70241    </td><td>682.1867    </td><td>12.215122   </td><td>-0.19359    </td><td>51.51061    </td></tr>\n",
       "</tbody>\n",
       "</table>\n"
      ],
      "text/latex": [
       "\\begin{tabular}{r|llllllllllllllllllll}\n",
       " X & realSum & room\\_type & room\\_shared & room\\_private & person\\_capacity & host\\_is\\_superhost & multi & biz & cleanliness\\_rating & guest\\_satisfaction\\_overall & bedrooms & dist & metro\\_dist & attr\\_index & attr\\_index\\_norm & rest\\_index & rest\\_index\\_norm & lng & lat\\\\\n",
       "\\hline\n",
       "\t 1            & 297.9844     & Private room & False        & True         & 2            & True         & 1            & 0            & 10           &  99          & 1            & 2.198946     & 0.3792620    & 553.8917     & 38.50163     & 961.4721     & 17.215961    & -0.09683     & 51.50343    \\\\\n",
       "\t 2            & 336.7906     & Private room & False        & True         & 2            & False        & 1            & 0            & 10           &  96          & 1            & 2.322958     & 0.4531776    & 428.2878     & 29.77076     & 959.0428     & 17.172462    & -0.10554     & 51.52407    \\\\\n",
       "\t 3            & 226.7222     & Private room & False        & True         & 2            & True         & 1            & 0            & 10           &  99          & 1            & 5.707825     & 1.7239771    & 195.6947     & 13.60296     & 452.2325     &  8.097600    & -0.16575     & 51.46292    \\\\\n",
       "\t 4            & 256.3560     & Private room & False        & True         & 3            & False        & 0            & 0            &  9           &  98          & 1            & 3.257945     & 0.8254172    & 329.4771     & 22.90232     & 735.3273     & 13.166649    & -0.12055     & 51.53728    \\\\\n",
       "\t 5            & 239.8928     & Private room & False        & True         & 2            & False        & 0            & 0            & 10           & 100          & 1            & 5.085730     & 1.8062181    & 226.7250     & 15.75990     & 486.7371     &  8.715433    & -0.17241     & 51.47222    \\\\\n",
       "\t 6            & 324.0904     & Private room & False        & True         & 2            & False        & 0            & 0            & 10           & 100          & 1            & 4.595055     & 0.2968787    & 283.4426     & 19.70241     & 682.1867     & 12.215122    & -0.19359     & 51.51061    \\\\\n",
       "\\end{tabular}\n"
      ],
      "text/markdown": [
       "\n",
       "| X | realSum | room_type | room_shared | room_private | person_capacity | host_is_superhost | multi | biz | cleanliness_rating | guest_satisfaction_overall | bedrooms | dist | metro_dist | attr_index | attr_index_norm | rest_index | rest_index_norm | lng | lat |\n",
       "|---|---|---|---|---|---|---|---|---|---|---|---|---|---|---|---|---|---|---|---|\n",
       "| 1            | 297.9844     | Private room | False        | True         | 2            | True         | 1            | 0            | 10           |  99          | 1            | 2.198946     | 0.3792620    | 553.8917     | 38.50163     | 961.4721     | 17.215961    | -0.09683     | 51.50343     |\n",
       "| 2            | 336.7906     | Private room | False        | True         | 2            | False        | 1            | 0            | 10           |  96          | 1            | 2.322958     | 0.4531776    | 428.2878     | 29.77076     | 959.0428     | 17.172462    | -0.10554     | 51.52407     |\n",
       "| 3            | 226.7222     | Private room | False        | True         | 2            | True         | 1            | 0            | 10           |  99          | 1            | 5.707825     | 1.7239771    | 195.6947     | 13.60296     | 452.2325     |  8.097600    | -0.16575     | 51.46292     |\n",
       "| 4            | 256.3560     | Private room | False        | True         | 3            | False        | 0            | 0            |  9           |  98          | 1            | 3.257945     | 0.8254172    | 329.4771     | 22.90232     | 735.3273     | 13.166649    | -0.12055     | 51.53728     |\n",
       "| 5            | 239.8928     | Private room | False        | True         | 2            | False        | 0            | 0            | 10           | 100          | 1            | 5.085730     | 1.8062181    | 226.7250     | 15.75990     | 486.7371     |  8.715433    | -0.17241     | 51.47222     |\n",
       "| 6            | 324.0904     | Private room | False        | True         | 2            | False        | 0            | 0            | 10           | 100          | 1            | 4.595055     | 0.2968787    | 283.4426     | 19.70241     | 682.1867     | 12.215122    | -0.19359     | 51.51061     |\n",
       "\n"
      ],
      "text/plain": [
       "  X realSum  room_type    room_shared room_private person_capacity\n",
       "1 1 297.9844 Private room False       True         2              \n",
       "2 2 336.7906 Private room False       True         2              \n",
       "3 3 226.7222 Private room False       True         2              \n",
       "4 4 256.3560 Private room False       True         3              \n",
       "5 5 239.8928 Private room False       True         2              \n",
       "6 6 324.0904 Private room False       True         2              \n",
       "  host_is_superhost multi biz cleanliness_rating guest_satisfaction_overall\n",
       "1 True              1     0   10                  99                       \n",
       "2 False             1     0   10                  96                       \n",
       "3 True              1     0   10                  99                       \n",
       "4 False             0     0    9                  98                       \n",
       "5 False             0     0   10                 100                       \n",
       "6 False             0     0   10                 100                       \n",
       "  bedrooms dist     metro_dist attr_index attr_index_norm rest_index\n",
       "1 1        2.198946 0.3792620  553.8917   38.50163        961.4721  \n",
       "2 1        2.322958 0.4531776  428.2878   29.77076        959.0428  \n",
       "3 1        5.707825 1.7239771  195.6947   13.60296        452.2325  \n",
       "4 1        3.257945 0.8254172  329.4771   22.90232        735.3273  \n",
       "5 1        5.085730 1.8062181  226.7250   15.75990        486.7371  \n",
       "6 1        4.595055 0.2968787  283.4426   19.70241        682.1867  \n",
       "  rest_index_norm lng      lat     \n",
       "1 17.215961       -0.09683 51.50343\n",
       "2 17.172462       -0.10554 51.52407\n",
       "3  8.097600       -0.16575 51.46292\n",
       "4 13.166649       -0.12055 51.53728\n",
       "5  8.715433       -0.17241 51.47222\n",
       "6 12.215122       -0.19359 51.51061"
      ]
     },
     "metadata": {},
     "output_type": "display_data"
    }
   ],
   "source": [
    "head(london)"
   ]
  },
  {
   "cell_type": "code",
   "execution_count": 3,
   "metadata": {},
   "outputs": [
    {
     "data": {
      "text/html": [
       "<table>\n",
       "<thead><tr><th scope=col>realSum</th><th scope=col>dist</th></tr></thead>\n",
       "<tbody>\n",
       "\t<tr><td>297.9844</td><td>2.198946</td></tr>\n",
       "\t<tr><td>336.7906</td><td>2.322958</td></tr>\n",
       "\t<tr><td>226.7222</td><td>5.707825</td></tr>\n",
       "\t<tr><td>256.3560</td><td>3.257945</td></tr>\n",
       "\t<tr><td>239.8928</td><td>5.085730</td></tr>\n",
       "\t<tr><td>324.0904</td><td>4.595055</td></tr>\n",
       "</tbody>\n",
       "</table>\n"
      ],
      "text/latex": [
       "\\begin{tabular}{r|ll}\n",
       " realSum & dist\\\\\n",
       "\\hline\n",
       "\t 297.9844 & 2.198946\\\\\n",
       "\t 336.7906 & 2.322958\\\\\n",
       "\t 226.7222 & 5.707825\\\\\n",
       "\t 256.3560 & 3.257945\\\\\n",
       "\t 239.8928 & 5.085730\\\\\n",
       "\t 324.0904 & 4.595055\\\\\n",
       "\\end{tabular}\n"
      ],
      "text/markdown": [
       "\n",
       "| realSum | dist |\n",
       "|---|---|\n",
       "| 297.9844 | 2.198946 |\n",
       "| 336.7906 | 2.322958 |\n",
       "| 226.7222 | 5.707825 |\n",
       "| 256.3560 | 3.257945 |\n",
       "| 239.8928 | 5.085730 |\n",
       "| 324.0904 | 4.595055 |\n",
       "\n"
      ],
      "text/plain": [
       "  realSum  dist    \n",
       "1 297.9844 2.198946\n",
       "2 336.7906 2.322958\n",
       "3 226.7222 5.707825\n",
       "4 256.3560 3.257945\n",
       "5 239.8928 5.085730\n",
       "6 324.0904 4.595055"
      ]
     },
     "metadata": {},
     "output_type": "display_data"
    }
   ],
   "source": [
    "keep <- c(\"realSum\", \"dist\")\n",
    "london_data = london[,names(london) %in% keep]\n",
    "head(london_data)"
   ]
  },
  {
   "cell_type": "markdown",
   "metadata": {},
   "source": [
    "Filter data: Less than 5km vs More than 5km"
   ]
  },
  {
   "cell_type": "code",
   "execution_count": 8,
   "metadata": {},
   "outputs": [],
   "source": [
    "london_data$shorterDist<-london_data$dist<5"
   ]
  },
  {
   "cell_type": "code",
   "execution_count": 10,
   "metadata": {},
   "outputs": [
    {
     "data": {
      "text/html": [
       "<table>\n",
       "<thead><tr><th></th><th scope=col>realSum</th><th scope=col>dist</th><th scope=col>shorterDist</th></tr></thead>\n",
       "<tbody>\n",
       "\t<tr><th scope=row>1</th><td>297.9844</td><td>2.198946</td><td>TRUE    </td></tr>\n",
       "\t<tr><th scope=row>2</th><td>336.7906</td><td>2.322958</td><td>TRUE    </td></tr>\n",
       "\t<tr><th scope=row>4</th><td>256.3560</td><td>3.257945</td><td>TRUE    </td></tr>\n",
       "\t<tr><th scope=row>6</th><td>324.0904</td><td>4.595055</td><td>TRUE    </td></tr>\n",
       "\t<tr><th scope=row>8</th><td>129.3539</td><td>4.534041</td><td>TRUE    </td></tr>\n",
       "\t<tr><th scope=row>10</th><td>285.0490</td><td>3.221715</td><td>TRUE    </td></tr>\n",
       "</tbody>\n",
       "</table>\n"
      ],
      "text/latex": [
       "\\begin{tabular}{r|lll}\n",
       "  & realSum & dist & shorterDist\\\\\n",
       "\\hline\n",
       "\t1 & 297.9844 & 2.198946 & TRUE    \\\\\n",
       "\t2 & 336.7906 & 2.322958 & TRUE    \\\\\n",
       "\t4 & 256.3560 & 3.257945 & TRUE    \\\\\n",
       "\t6 & 324.0904 & 4.595055 & TRUE    \\\\\n",
       "\t8 & 129.3539 & 4.534041 & TRUE    \\\\\n",
       "\t10 & 285.0490 & 3.221715 & TRUE    \\\\\n",
       "\\end{tabular}\n"
      ],
      "text/markdown": [
       "\n",
       "| <!--/--> | realSum | dist | shorterDist |\n",
       "|---|---|---|---|\n",
       "| 1 | 297.9844 | 2.198946 | TRUE     |\n",
       "| 2 | 336.7906 | 2.322958 | TRUE     |\n",
       "| 4 | 256.3560 | 3.257945 | TRUE     |\n",
       "| 6 | 324.0904 | 4.595055 | TRUE     |\n",
       "| 8 | 129.3539 | 4.534041 | TRUE     |\n",
       "| 10 | 285.0490 | 3.221715 | TRUE     |\n",
       "\n"
      ],
      "text/plain": [
       "   realSum  dist     shorterDist\n",
       "1  297.9844 2.198946 TRUE       \n",
       "2  336.7906 2.322958 TRUE       \n",
       "4  256.3560 3.257945 TRUE       \n",
       "6  324.0904 4.595055 TRUE       \n",
       "8  129.3539 4.534041 TRUE       \n",
       "10 285.0490 3.221715 TRUE       "
      ]
     },
     "metadata": {},
     "output_type": "display_data"
    },
    {
     "data": {
      "text/html": [
       "<table>\n",
       "<thead><tr><th></th><th scope=col>realSum</th><th scope=col>dist</th><th scope=col>shorterDist</th></tr></thead>\n",
       "<tbody>\n",
       "\t<tr><th scope=row>3</th><td>226.7222</td><td>5.707825</td><td>FALSE   </td></tr>\n",
       "\t<tr><th scope=row>5</th><td>239.8928</td><td>5.085730</td><td>FALSE   </td></tr>\n",
       "\t<tr><th scope=row>7</th><td>155.6951</td><td>5.102453</td><td>FALSE   </td></tr>\n",
       "\t<tr><th scope=row>9</th><td>207.4367</td><td>5.945243</td><td>FALSE   </td></tr>\n",
       "\t<tr><th scope=row>12</th><td>310.9198</td><td>5.328496</td><td>FALSE   </td></tr>\n",
       "\t<tr><th scope=row>13</th><td>207.4367</td><td>5.116671</td><td>FALSE   </td></tr>\n",
       "</tbody>\n",
       "</table>\n"
      ],
      "text/latex": [
       "\\begin{tabular}{r|lll}\n",
       "  & realSum & dist & shorterDist\\\\\n",
       "\\hline\n",
       "\t3 & 226.7222 & 5.707825 & FALSE   \\\\\n",
       "\t5 & 239.8928 & 5.085730 & FALSE   \\\\\n",
       "\t7 & 155.6951 & 5.102453 & FALSE   \\\\\n",
       "\t9 & 207.4367 & 5.945243 & FALSE   \\\\\n",
       "\t12 & 310.9198 & 5.328496 & FALSE   \\\\\n",
       "\t13 & 207.4367 & 5.116671 & FALSE   \\\\\n",
       "\\end{tabular}\n"
      ],
      "text/markdown": [
       "\n",
       "| <!--/--> | realSum | dist | shorterDist |\n",
       "|---|---|---|---|\n",
       "| 3 | 226.7222 | 5.707825 | FALSE    |\n",
       "| 5 | 239.8928 | 5.085730 | FALSE    |\n",
       "| 7 | 155.6951 | 5.102453 | FALSE    |\n",
       "| 9 | 207.4367 | 5.945243 | FALSE    |\n",
       "| 12 | 310.9198 | 5.328496 | FALSE    |\n",
       "| 13 | 207.4367 | 5.116671 | FALSE    |\n",
       "\n"
      ],
      "text/plain": [
       "   realSum  dist     shorterDist\n",
       "3  226.7222 5.707825 FALSE      \n",
       "5  239.8928 5.085730 FALSE      \n",
       "7  155.6951 5.102453 FALSE      \n",
       "9  207.4367 5.945243 FALSE      \n",
       "12 310.9198 5.328496 FALSE      \n",
       "13 207.4367 5.116671 FALSE      "
      ]
     },
     "metadata": {},
     "output_type": "display_data"
    }
   ],
   "source": [
    "london_shorterdist <- subset(london_data, dist<5)\n",
    "london_longerdist <- subset(london_data, dist>=5)\n",
    "head(london_shorterdist)\n",
    "head(london_longerdist)"
   ]
  },
  {
   "cell_type": "code",
   "execution_count": 23,
   "metadata": {},
   "outputs": [
    {
     "data": {
      "image/png": "[encoded data removed]",
      "text/plain": [
       "plot without title"
      ]
     },
     "metadata": {},
     "output_type": "display_data"
    }
   ],
   "source": [
    "par(mfrow=c(1,1))\n",
    "boxplot(log(london_data$realSum)~london_data$shorterDist, col = \"cornflowerblue\", xlab = \"Distance less than 5km\", ylab = \"Log(Price)\" )"
   ]
  },
  {
   "cell_type": "markdown",
   "metadata": {},
   "source": [
    "Test variances"
   ]
  },
  {
   "cell_type": "code",
   "execution_count": 22,
   "metadata": {},
   "outputs": [
    {
     "data": {
      "text/plain": [
       "\n",
       "\tF test to compare two variances\n",
       "\n",
       "data:  log(london_data$realSum) by london_data$shorterDist\n",
       "F = 1.1989, num df = 1463, denom df = 1016, p-value = 0.001819\n",
       "alternative hypothesis: true ratio of variances is not equal to 1\n",
       "95 percent confidence interval:\n",
       " 1.069929 1.341912\n",
       "sample estimates:\n",
       "ratio of variances \n",
       "          1.198931 \n"
      ]
     },
     "metadata": {},
     "output_type": "display_data"
    }
   ],
   "source": [
    "var.test(log(london_data$realSum)~london_data$shorterDist)"
   ]
  },
  {
   "cell_type": "markdown",
   "metadata": {},
   "source": [
    "At the 0.05 significance level, we do have enough evidence to reject H0 as the p-value of 0.001819 < 0.05, hence, the variances are taken to be different"
   ]
  },
  {
   "cell_type": "markdown",
   "metadata": {},
   "source": [
    "### Test means"
   ]
  },
  {
   "cell_type": "code",
   "execution_count": 25,
   "metadata": {},
   "outputs": [
    {
     "data": {
      "text/plain": [
       "\n",
       "\tWelch Two Sample t-test\n",
       "\n",
       "data:  log(london_data$realSum) by london_data$shorterDist\n",
       "t = -19.874, df = 2303.5, p-value < 2.2e-16\n",
       "alternative hypothesis: true difference in means is not equal to 0\n",
       "95 percent confidence interval:\n",
       " -0.2688139 -0.2205289\n",
       "sample estimates:\n",
       "mean in group FALSE  mean in group TRUE \n",
       "           5.054659            5.299330 \n"
      ]
     },
     "metadata": {},
     "output_type": "display_data"
    }
   ],
   "source": [
    "t.test(log(london_data$realSum)~london_data$shorterDist, var.equal=FALSE)"
   ]
  },
  {
   "cell_type": "markdown",
   "metadata": {},
   "source": [
    "As p-value is extremely small and below 0.05, we can reject H0 that the difference between the means is the same and conclude that the difference between the mean price of Airbnb differs, based on distance of the AirBnb from the city centre."
   ]
  },
  {
   "cell_type": "code",
   "execution_count": 30,
   "metadata": {},
   "outputs": [
    {
     "data": {
      "text/html": [
       "0.426599600494514"
      ],
      "text/latex": [
       "0.426599600494514"
      ],
      "text/markdown": [
       "0.426599600494514"
      ],
      "text/plain": [
       "[1] 0.4265996"
      ]
     },
     "metadata": {},
     "output_type": "display_data"
    }
   ],
   "source": [
    "abs(cor(log(london_data$realSum),london_data$dist))"
   ]
  },
  {
   "cell_type": "code",
   "execution_count": 31,
   "metadata": {},
   "outputs": [
    {
     "data": {
      "text/plain": [
       "\n",
       "\tPearson's product-moment correlation\n",
       "\n",
       "data:  log(london_data$realSum) and london_data$dist\n",
       "t = -23.484, df = 2479, p-value < 2.2e-16\n",
       "alternative hypothesis: true correlation is not equal to 0\n",
       "95 percent confidence interval:\n",
       " -0.4582590 -0.3938591\n",
       "sample estimates:\n",
       "       cor \n",
       "-0.4265996 \n"
      ]
     },
     "metadata": {},
     "output_type": "display_data"
    }
   ],
   "source": [
    "cor.test(log(london_data$realSum),london_data$dist)"
   ]
  },
  {
   "cell_type": "code",
   "execution_count": null,
   "metadata": {},
   "outputs": [],
   "source": []
  }
 ],
 "metadata": {
  "kernelspec": {
   "display_name": "R",
   "language": "R",
   "name": "ir"
  },
  "language_info": {
   "codemirror_mode": "r",
   "file_extension": ".r",
   "mimetype": "text/x-r-source",
   "name": "R",
   "pygments_lexer": "r",
   "version": "3.6.1"
  }
 },
 "nbformat": 4,
 "nbformat_minor": 4
}
