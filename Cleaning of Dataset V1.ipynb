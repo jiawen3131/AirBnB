{
 "cells": [
  {
   "cell_type": "markdown",
   "id": "a346fcab",
   "metadata": {},
   "source": [
    "# Cleaning of Dataset"
   ]
  },
  {
   "cell_type": "markdown",
   "id": "b56cc798",
   "metadata": {},
   "source": [
    "### Read Data"
   ]
  },
  {
   "cell_type": "code",
   "execution_count": 1,
   "id": "dc5a9675",
   "metadata": {},
   "outputs": [],
   "source": [
    "london_weekday <- read.csv('data/london_weekdays.csv')\n",
    "london_weekend <- read.csv('data/london_weekends.csv')"
   ]
  },
  {
   "cell_type": "code",
   "execution_count": 2,
   "id": "2aa62024",
   "metadata": {},
   "outputs": [
    {
     "data": {
      "text/html": [
       "<table>\n",
       "<thead><tr><th scope=col>X</th><th scope=col>realSum</th><th scope=col>room_type</th><th scope=col>room_shared</th><th scope=col>room_private</th><th scope=col>person_capacity</th><th scope=col>host_is_superhost</th><th scope=col>multi</th><th scope=col>biz</th><th scope=col>cleanliness_rating</th><th scope=col>guest_satisfaction_overall</th><th scope=col>bedrooms</th><th scope=col>dist</th><th scope=col>metro_dist</th><th scope=col>attr_index</th><th scope=col>attr_index_norm</th><th scope=col>rest_index</th><th scope=col>rest_index_norm</th><th scope=col>lng</th><th scope=col>lat</th></tr></thead>\n",
       "<tbody>\n",
       "\t<tr><td>0              </td><td>570.0981       </td><td>Entire home/apt</td><td>False          </td><td>False          </td><td>2              </td><td>False          </td><td>0              </td><td>0              </td><td>10             </td><td> 98            </td><td>1              </td><td>5.301018       </td><td>1.5889904      </td><td>209.6326       </td><td>14.57179       </td><td>467.5975       </td><td> 8.372724      </td><td>-0.16032       </td><td>51.46531       </td></tr>\n",
       "\t<tr><td>1              </td><td>297.9844       </td><td>Private room   </td><td>False          </td><td>True           </td><td>2              </td><td>True           </td><td>1              </td><td>0              </td><td>10             </td><td> 99            </td><td>1              </td><td>2.198946       </td><td>0.3792620      </td><td>553.8917       </td><td>38.50163       </td><td>961.4721       </td><td>17.215961      </td><td>-0.09683       </td><td>51.50343       </td></tr>\n",
       "\t<tr><td>2              </td><td>336.7906       </td><td>Private room   </td><td>False          </td><td>True           </td><td>2              </td><td>False          </td><td>1              </td><td>0              </td><td>10             </td><td> 96            </td><td>1              </td><td>2.322958       </td><td>0.4531776      </td><td>428.2878       </td><td>29.77076       </td><td>959.0428       </td><td>17.172462      </td><td>-0.10554       </td><td>51.52407       </td></tr>\n",
       "\t<tr><td>3              </td><td>226.7222       </td><td>Private room   </td><td>False          </td><td>True           </td><td>2              </td><td>True           </td><td>1              </td><td>0              </td><td>10             </td><td> 99            </td><td>1              </td><td>5.707825       </td><td>1.7239771      </td><td>195.6947       </td><td>13.60296       </td><td>452.2325       </td><td> 8.097600      </td><td>-0.16575       </td><td>51.46292       </td></tr>\n",
       "\t<tr><td>4              </td><td>256.3560       </td><td>Private room   </td><td>False          </td><td>True           </td><td>3              </td><td>False          </td><td>0              </td><td>0              </td><td> 9             </td><td> 98            </td><td>1              </td><td>3.257945       </td><td>0.8254172      </td><td>329.4771       </td><td>22.90232       </td><td>735.3273       </td><td>13.166649      </td><td>-0.12055       </td><td>51.53728       </td></tr>\n",
       "\t<tr><td>5              </td><td>239.8928       </td><td>Private room   </td><td>False          </td><td>True           </td><td>2              </td><td>False          </td><td>0              </td><td>0              </td><td>10             </td><td>100            </td><td>1              </td><td>5.085730       </td><td>1.8062181      </td><td>226.7250       </td><td>15.75990       </td><td>486.7371       </td><td> 8.715433      </td><td>-0.17241       </td><td>51.47222       </td></tr>\n",
       "</tbody>\n",
       "</table>\n"
      ],
      "text/latex": [
       "\\begin{tabular}{r|llllllllllllllllllll}\n",
       " X & realSum & room\\_type & room\\_shared & room\\_private & person\\_capacity & host\\_is\\_superhost & multi & biz & cleanliness\\_rating & guest\\_satisfaction\\_overall & bedrooms & dist & metro\\_dist & attr\\_index & attr\\_index\\_norm & rest\\_index & rest\\_index\\_norm & lng & lat\\\\\n",
       "\\hline\n",
       "\t 0               & 570.0981        & Entire home/apt & False           & False           & 2               & False           & 0               & 0               & 10              &  98             & 1               & 5.301018        & 1.5889904       & 209.6326        & 14.57179        & 467.5975        &  8.372724       & -0.16032        & 51.46531       \\\\\n",
       "\t 1               & 297.9844        & Private room    & False           & True            & 2               & True            & 1               & 0               & 10              &  99             & 1               & 2.198946        & 0.3792620       & 553.8917        & 38.50163        & 961.4721        & 17.215961       & -0.09683        & 51.50343       \\\\\n",
       "\t 2               & 336.7906        & Private room    & False           & True            & 2               & False           & 1               & 0               & 10              &  96             & 1               & 2.322958        & 0.4531776       & 428.2878        & 29.77076        & 959.0428        & 17.172462       & -0.10554        & 51.52407       \\\\\n",
       "\t 3               & 226.7222        & Private room    & False           & True            & 2               & True            & 1               & 0               & 10              &  99             & 1               & 5.707825        & 1.7239771       & 195.6947        & 13.60296        & 452.2325        &  8.097600       & -0.16575        & 51.46292       \\\\\n",
       "\t 4               & 256.3560        & Private room    & False           & True            & 3               & False           & 0               & 0               &  9              &  98             & 1               & 3.257945        & 0.8254172       & 329.4771        & 22.90232        & 735.3273        & 13.166649       & -0.12055        & 51.53728       \\\\\n",
       "\t 5               & 239.8928        & Private room    & False           & True            & 2               & False           & 0               & 0               & 10              & 100             & 1               & 5.085730        & 1.8062181       & 226.7250        & 15.75990        & 486.7371        &  8.715433       & -0.17241        & 51.47222       \\\\\n",
       "\\end{tabular}\n"
      ],
      "text/markdown": [
       "\n",
       "| X | realSum | room_type | room_shared | room_private | person_capacity | host_is_superhost | multi | biz | cleanliness_rating | guest_satisfaction_overall | bedrooms | dist | metro_dist | attr_index | attr_index_norm | rest_index | rest_index_norm | lng | lat |\n",
       "|---|---|---|---|---|---|---|---|---|---|---|---|---|---|---|---|---|---|---|---|\n",
       "| 0               | 570.0981        | Entire home/apt | False           | False           | 2               | False           | 0               | 0               | 10              |  98             | 1               | 5.301018        | 1.5889904       | 209.6326        | 14.57179        | 467.5975        |  8.372724       | -0.16032        | 51.46531        |\n",
       "| 1               | 297.9844        | Private room    | False           | True            | 2               | True            | 1               | 0               | 10              |  99             | 1               | 2.198946        | 0.3792620       | 553.8917        | 38.50163        | 961.4721        | 17.215961       | -0.09683        | 51.50343        |\n",
       "| 2               | 336.7906        | Private room    | False           | True            | 2               | False           | 1               | 0               | 10              |  96             | 1               | 2.322958        | 0.4531776       | 428.2878        | 29.77076        | 959.0428        | 17.172462       | -0.10554        | 51.52407        |\n",
       "| 3               | 226.7222        | Private room    | False           | True            | 2               | True            | 1               | 0               | 10              |  99             | 1               | 5.707825        | 1.7239771       | 195.6947        | 13.60296        | 452.2325        |  8.097600       | -0.16575        | 51.46292        |\n",
       "| 4               | 256.3560        | Private room    | False           | True            | 3               | False           | 0               | 0               |  9              |  98             | 1               | 3.257945        | 0.8254172       | 329.4771        | 22.90232        | 735.3273        | 13.166649       | -0.12055        | 51.53728        |\n",
       "| 5               | 239.8928        | Private room    | False           | True            | 2               | False           | 0               | 0               | 10              | 100             | 1               | 5.085730        | 1.8062181       | 226.7250        | 15.75990        | 486.7371        |  8.715433       | -0.17241        | 51.47222        |\n",
       "\n"
      ],
      "text/plain": [
       "  X realSum  room_type       room_shared room_private person_capacity\n",
       "1 0 570.0981 Entire home/apt False       False        2              \n",
       "2 1 297.9844 Private room    False       True         2              \n",
       "3 2 336.7906 Private room    False       True         2              \n",
       "4 3 226.7222 Private room    False       True         2              \n",
       "5 4 256.3560 Private room    False       True         3              \n",
       "6 5 239.8928 Private room    False       True         2              \n",
       "  host_is_superhost multi biz cleanliness_rating guest_satisfaction_overall\n",
       "1 False             0     0   10                  98                       \n",
       "2 True              1     0   10                  99                       \n",
       "3 False             1     0   10                  96                       \n",
       "4 True              1     0   10                  99                       \n",
       "5 False             0     0    9                  98                       \n",
       "6 False             0     0   10                 100                       \n",
       "  bedrooms dist     metro_dist attr_index attr_index_norm rest_index\n",
       "1 1        5.301018 1.5889904  209.6326   14.57179        467.5975  \n",
       "2 1        2.198946 0.3792620  553.8917   38.50163        961.4721  \n",
       "3 1        2.322958 0.4531776  428.2878   29.77076        959.0428  \n",
       "4 1        5.707825 1.7239771  195.6947   13.60296        452.2325  \n",
       "5 1        3.257945 0.8254172  329.4771   22.90232        735.3273  \n",
       "6 1        5.085730 1.8062181  226.7250   15.75990        486.7371  \n",
       "  rest_index_norm lng      lat     \n",
       "1  8.372724       -0.16032 51.46531\n",
       "2 17.215961       -0.09683 51.50343\n",
       "3 17.172462       -0.10554 51.52407\n",
       "4  8.097600       -0.16575 51.46292\n",
       "5 13.166649       -0.12055 51.53728\n",
       "6  8.715433       -0.17241 51.47222"
      ]
     },
     "metadata": {},
     "output_type": "display_data"
    }
   ],
   "source": [
    "head(london_weekday)"
   ]
  },
  {
   "cell_type": "code",
   "execution_count": 3,
   "id": "dacac08f",
   "metadata": {},
   "outputs": [
    {
     "data": {
      "text/html": [
       "<table>\n",
       "<thead><tr><th scope=col>X</th><th scope=col>realSum</th><th scope=col>room_type</th><th scope=col>room_shared</th><th scope=col>room_private</th><th scope=col>person_capacity</th><th scope=col>host_is_superhost</th><th scope=col>multi</th><th scope=col>biz</th><th scope=col>cleanliness_rating</th><th scope=col>guest_satisfaction_overall</th><th scope=col>bedrooms</th><th scope=col>dist</th><th scope=col>metro_dist</th><th scope=col>attr_index</th><th scope=col>attr_index_norm</th><th scope=col>rest_index</th><th scope=col>rest_index_norm</th><th scope=col>lng</th><th scope=col>lat</th></tr></thead>\n",
       "<tbody>\n",
       "\t<tr><td>0              </td><td>121.1223       </td><td>Private room   </td><td>False          </td><td>True           </td><td>2              </td><td>False          </td><td>0              </td><td>0              </td><td> 6             </td><td>69             </td><td>1              </td><td>5.734117       </td><td>0.4370940      </td><td>222.8822       </td><td>15.49341       </td><td> 470.0885      </td><td> 8.413765      </td><td>-0.04975       </td><td>51.52570       </td></tr>\n",
       "\t<tr><td>1              </td><td>195.9124       </td><td>Private room   </td><td>False          </td><td>True           </td><td>2              </td><td>False          </td><td>1              </td><td>0              </td><td>10             </td><td>96             </td><td>1              </td><td>4.788905       </td><td>1.4640505      </td><td>235.3858       </td><td>16.36259       </td><td> 530.1335      </td><td> 9.488466      </td><td>-0.08475       </td><td>51.54210       </td></tr>\n",
       "\t<tr><td>2              </td><td>193.3253       </td><td>Private room   </td><td>False          </td><td>True           </td><td>3              </td><td>False          </td><td>1              </td><td>0              </td><td>10             </td><td>95             </td><td>1              </td><td>4.596677       </td><td>0.4503062      </td><td>268.9138       </td><td>18.69325       </td><td> 548.9876      </td><td> 9.825922      </td><td>-0.14585       </td><td>51.54802       </td></tr>\n",
       "\t<tr><td>3              </td><td>180.3899       </td><td>Private room   </td><td>False          </td><td>True           </td><td>2              </td><td>False          </td><td>1              </td><td>0              </td><td> 9             </td><td>87             </td><td>1              </td><td>2.054769       </td><td>0.1326705      </td><td>472.3813       </td><td>32.83707       </td><td>1021.2711      </td><td>18.278973      </td><td>-0.10611       </td><td>51.52108       </td></tr>\n",
       "\t<tr><td>4              </td><td>405.7010       </td><td>Entire home/apt</td><td>False          </td><td>False          </td><td>3              </td><td>False          </td><td>0              </td><td>1              </td><td> 7             </td><td>65             </td><td>0              </td><td>4.491277       </td><td>0.3541075      </td><td>318.4915       </td><td>22.13958       </td><td> 692.7754      </td><td>12.399473      </td><td>-0.18797       </td><td>51.49399       </td></tr>\n",
       "\t<tr><td>5              </td><td>354.1946       </td><td>Entire home/apt</td><td>False          </td><td>False          </td><td>2              </td><td>False          </td><td>0              </td><td>1              </td><td> 9             </td><td>93             </td><td>0              </td><td>4.467894       </td><td>0.3507494      </td><td>321.8646       </td><td>22.37406       </td><td> 703.0686      </td><td>12.583702      </td><td>-0.18805       </td><td>51.49473       </td></tr>\n",
       "</tbody>\n",
       "</table>\n"
      ],
      "text/latex": [
       "\\begin{tabular}{r|llllllllllllllllllll}\n",
       " X & realSum & room\\_type & room\\_shared & room\\_private & person\\_capacity & host\\_is\\_superhost & multi & biz & cleanliness\\_rating & guest\\_satisfaction\\_overall & bedrooms & dist & metro\\_dist & attr\\_index & attr\\_index\\_norm & rest\\_index & rest\\_index\\_norm & lng & lat\\\\\n",
       "\\hline\n",
       "\t 0               & 121.1223        & Private room    & False           & True            & 2               & False           & 0               & 0               &  6              & 69              & 1               & 5.734117        & 0.4370940       & 222.8822        & 15.49341        &  470.0885       &  8.413765       & -0.04975        & 51.52570       \\\\\n",
       "\t 1               & 195.9124        & Private room    & False           & True            & 2               & False           & 1               & 0               & 10              & 96              & 1               & 4.788905        & 1.4640505       & 235.3858        & 16.36259        &  530.1335       &  9.488466       & -0.08475        & 51.54210       \\\\\n",
       "\t 2               & 193.3253        & Private room    & False           & True            & 3               & False           & 1               & 0               & 10              & 95              & 1               & 4.596677        & 0.4503062       & 268.9138        & 18.69325        &  548.9876       &  9.825922       & -0.14585        & 51.54802       \\\\\n",
       "\t 3               & 180.3899        & Private room    & False           & True            & 2               & False           & 1               & 0               &  9              & 87              & 1               & 2.054769        & 0.1326705       & 472.3813        & 32.83707        & 1021.2711       & 18.278973       & -0.10611        & 51.52108       \\\\\n",
       "\t 4               & 405.7010        & Entire home/apt & False           & False           & 3               & False           & 0               & 1               &  7              & 65              & 0               & 4.491277        & 0.3541075       & 318.4915        & 22.13958        &  692.7754       & 12.399473       & -0.18797        & 51.49399       \\\\\n",
       "\t 5               & 354.1946        & Entire home/apt & False           & False           & 2               & False           & 0               & 1               &  9              & 93              & 0               & 4.467894        & 0.3507494       & 321.8646        & 22.37406        &  703.0686       & 12.583702       & -0.18805        & 51.49473       \\\\\n",
       "\\end{tabular}\n"
      ],
      "text/markdown": [
       "\n",
       "| X | realSum | room_type | room_shared | room_private | person_capacity | host_is_superhost | multi | biz | cleanliness_rating | guest_satisfaction_overall | bedrooms | dist | metro_dist | attr_index | attr_index_norm | rest_index | rest_index_norm | lng | lat |\n",
       "|---|---|---|---|---|---|---|---|---|---|---|---|---|---|---|---|---|---|---|---|\n",
       "| 0               | 121.1223        | Private room    | False           | True            | 2               | False           | 0               | 0               |  6              | 69              | 1               | 5.734117        | 0.4370940       | 222.8822        | 15.49341        |  470.0885       |  8.413765       | -0.04975        | 51.52570        |\n",
       "| 1               | 195.9124        | Private room    | False           | True            | 2               | False           | 1               | 0               | 10              | 96              | 1               | 4.788905        | 1.4640505       | 235.3858        | 16.36259        |  530.1335       |  9.488466       | -0.08475        | 51.54210        |\n",
       "| 2               | 193.3253        | Private room    | False           | True            | 3               | False           | 1               | 0               | 10              | 95              | 1               | 4.596677        | 0.4503062       | 268.9138        | 18.69325        |  548.9876       |  9.825922       | -0.14585        | 51.54802        |\n",
       "| 3               | 180.3899        | Private room    | False           | True            | 2               | False           | 1               | 0               |  9              | 87              | 1               | 2.054769        | 0.1326705       | 472.3813        | 32.83707        | 1021.2711       | 18.278973       | -0.10611        | 51.52108        |\n",
       "| 4               | 405.7010        | Entire home/apt | False           | False           | 3               | False           | 0               | 1               |  7              | 65              | 0               | 4.491277        | 0.3541075       | 318.4915        | 22.13958        |  692.7754       | 12.399473       | -0.18797        | 51.49399        |\n",
       "| 5               | 354.1946        | Entire home/apt | False           | False           | 2               | False           | 0               | 1               |  9              | 93              | 0               | 4.467894        | 0.3507494       | 321.8646        | 22.37406        |  703.0686       | 12.583702       | -0.18805        | 51.49473        |\n",
       "\n"
      ],
      "text/plain": [
       "  X realSum  room_type       room_shared room_private person_capacity\n",
       "1 0 121.1223 Private room    False       True         2              \n",
       "2 1 195.9124 Private room    False       True         2              \n",
       "3 2 193.3253 Private room    False       True         3              \n",
       "4 3 180.3899 Private room    False       True         2              \n",
       "5 4 405.7010 Entire home/apt False       False        3              \n",
       "6 5 354.1946 Entire home/apt False       False        2              \n",
       "  host_is_superhost multi biz cleanliness_rating guest_satisfaction_overall\n",
       "1 False             0     0    6                 69                        \n",
       "2 False             1     0   10                 96                        \n",
       "3 False             1     0   10                 95                        \n",
       "4 False             1     0    9                 87                        \n",
       "5 False             0     1    7                 65                        \n",
       "6 False             0     1    9                 93                        \n",
       "  bedrooms dist     metro_dist attr_index attr_index_norm rest_index\n",
       "1 1        5.734117 0.4370940  222.8822   15.49341         470.0885 \n",
       "2 1        4.788905 1.4640505  235.3858   16.36259         530.1335 \n",
       "3 1        4.596677 0.4503062  268.9138   18.69325         548.9876 \n",
       "4 1        2.054769 0.1326705  472.3813   32.83707        1021.2711 \n",
       "5 0        4.491277 0.3541075  318.4915   22.13958         692.7754 \n",
       "6 0        4.467894 0.3507494  321.8646   22.37406         703.0686 \n",
       "  rest_index_norm lng      lat     \n",
       "1  8.413765       -0.04975 51.52570\n",
       "2  9.488466       -0.08475 51.54210\n",
       "3  9.825922       -0.14585 51.54802\n",
       "4 18.278973       -0.10611 51.52108\n",
       "5 12.399473       -0.18797 51.49399\n",
       "6 12.583702       -0.18805 51.49473"
      ]
     },
     "metadata": {},
     "output_type": "display_data"
    }
   ],
   "source": [
    "head(london_weekend)"
   ]
  },
  {
   "cell_type": "markdown",
   "id": "11ac4c9e",
   "metadata": {},
   "source": [
    "### Visualise Data\n",
    "Note that data seems skewed, hence apply log transformation"
   ]
  },
  {
   "cell_type": "code",
   "execution_count": 4,
   "id": "b83a4836",
   "metadata": {},
   "outputs": [
    {
     "data": {
      "image/png": "[encoded data removed]",
      "text/plain": [
       "Plot with title \"Weekend Log(Prices) histogram\""
      ]
     },
     "metadata": {},
     "output_type": "display_data"
    }
   ],
   "source": [
    "par(mfrow=c(2,2))\n",
    "\n",
    "#Weekday: Without log transform\n",
    "price_weekday <- london_weekday$realSum\n",
    "hist(price_weekday, col = \"lightblue\"\n",
    ", xlab = \"Weekday Log(Prices)\"\n",
    ", main = 'Weekday Prices histogram',breaks=80)\n",
    "\n",
    "#Weekday: With log transform\n",
    "l_price_weekday <- log(london_weekday$realSum)\n",
    "hist(l_price_weekday, col = \"cornflowerblue\"\n",
    ", xlab = \"Weekday Log(Prices)\"\n",
    ", main = 'Weekday Log(Prices) histogram',breaks=80)\n",
    "\n",
    "#Weekend: Without log transform\n",
    "price_weekend <- london_weekend$realSum\n",
    "hist(price_weekend, col = \"lightblue\"\n",
    ", xlab = \"Weekend Log(Prices)\"\n",
    ", main = 'Weekend Prices histogram',breaks=80)\n",
    "\n",
    "#Weekend: With log transform\n",
    "l_price_weekend <- log(london_weekend$realSum)\n",
    "hist(l_price_weekend, col = \"cornflowerblue\"\n",
    ", xlab = \"Weekend Log(Prices)\"\n",
    ", main = 'Weekend Log(Prices) histogram',breaks=80)"
   ]
  },
  {
   "cell_type": "markdown",
   "id": "38b9dd67",
   "metadata": {},
   "source": [
    "### Remove Outliers\n",
    "Note that even after log transformation is applied, some outliers exist. The outliers are mainly due to the entire appartment listings being of a much higher price than the private and shared appartments. Hence, we focus on the prices of the private and share appartments only, and remove outliers that that are outside the 1.5*IQR range"
   ]
  },
  {
   "cell_type": "code",
   "execution_count": 5,
   "id": "a4ba9d8c",
   "metadata": {},
   "outputs": [
    {
     "data": {
      "text/html": [
       "<table>\n",
       "<thead><tr><th></th><th scope=col>X</th><th scope=col>realSum</th><th scope=col>room_type</th><th scope=col>room_shared</th><th scope=col>room_private</th><th scope=col>person_capacity</th><th scope=col>host_is_superhost</th><th scope=col>multi</th><th scope=col>biz</th><th scope=col>cleanliness_rating</th><th scope=col>guest_satisfaction_overall</th><th scope=col>bedrooms</th><th scope=col>dist</th><th scope=col>metro_dist</th><th scope=col>attr_index</th><th scope=col>attr_index_norm</th><th scope=col>rest_index</th><th scope=col>rest_index_norm</th><th scope=col>lng</th><th scope=col>lat</th></tr></thead>\n",
       "<tbody>\n",
       "\t<tr><th scope=row>1887</th><td>1886           </td><td>15499.894      </td><td>Entire home/apt</td><td>False          </td><td>False          </td><td>3              </td><td>True           </td><td>0              </td><td>1              </td><td>10             </td><td> 95            </td><td>3              </td><td>0.2691010      </td><td>0.2271933      </td><td>1100.3917      </td><td>76.48945       </td><td>2358.3585      </td><td>42.228377      </td><td>-0.13038       </td><td>51.50995       </td></tr>\n",
       "\t<tr><th scope=row>3168</th><td>3167           </td><td>12886.239      </td><td>Entire home/apt</td><td>False          </td><td>False          </td><td>6              </td><td>False          </td><td>0              </td><td>0              </td><td>10             </td><td>100            </td><td>2              </td><td>2.9383263      </td><td>0.6197170      </td><td> 386.7318      </td><td>26.88216       </td><td> 781.5264      </td><td>13.993882      </td><td>-0.14658       </td><td>51.53190       </td></tr>\n",
       "\t<tr><th scope=row>3484</th><td>3483           </td><td>12886.239      </td><td>Private room   </td><td>False          </td><td>True           </td><td>2              </td><td>False          </td><td>0              </td><td>0              </td><td> 7             </td><td> 80            </td><td>1              </td><td>5.6234608      </td><td>0.4855537      </td><td> 233.7668      </td><td>16.24939       </td><td> 444.0518      </td><td> 7.951117      </td><td>-0.04987       </td><td>51.49397       </td></tr>\n",
       "\t<tr><th scope=row>1379</th><td>1378           </td><td>12076.954      </td><td>Private room   </td><td>False          </td><td>True           </td><td>2              </td><td>False          </td><td>0              </td><td>0              </td><td> 8             </td><td> 89            </td><td>3              </td><td>4.3035316      </td><td>0.7090280      </td><td> 318.8115      </td><td>22.16094       </td><td> 666.0130      </td><td>11.925519      </td><td>-0.18071       </td><td>51.48849       </td></tr>\n",
       "\t<tr><th scope=row>4123</th><td>4122           </td><td> 7759.355      </td><td>Entire home/apt</td><td>False          </td><td>False          </td><td>6              </td><td>False          </td><td>0              </td><td>0              </td><td>10             </td><td>100            </td><td>3              </td><td>1.7091286      </td><td>0.2964712      </td><td> 626.7365      </td><td>43.56515       </td><td>1012.5754      </td><td>18.131008      </td><td>-0.13984       </td><td>51.49503       </td></tr>\n",
       "\t<tr><th scope=row>3535</th><td>3534           </td><td> 7223.829      </td><td>Entire home/apt</td><td>False          </td><td>False          </td><td>4              </td><td>True           </td><td>0              </td><td>0              </td><td> 9             </td><td> 98            </td><td>2              </td><td>0.4763776      </td><td>0.2497076      </td><td>1098.1663      </td><td>76.33476       </td><td>1374.4535      </td><td>24.610738      </td><td>-0.12335       </td><td>51.50492       </td></tr>\n",
       "\t<tr><th scope=row>1892</th><td>1891           </td><td> 5166.631      </td><td>Private room   </td><td>False          </td><td>True           </td><td>3              </td><td>True           </td><td>0              </td><td>1              </td><td>10             </td><td> 99            </td><td>2              </td><td>0.3674286      </td><td>0.1291938      </td><td> 973.0211      </td><td>67.63577       </td><td>2434.7544      </td><td>43.596309      </td><td>-0.13217       </td><td>51.50989       </td></tr>\n",
       "\t<tr><th scope=row>1802</th><td>1801           </td><td> 3874.974      </td><td>Entire home/apt</td><td>False          </td><td>False          </td><td>2              </td><td>False          </td><td>1              </td><td>0              </td><td>10             </td><td>100            </td><td>2              </td><td>7.6789488      </td><td>0.5172337      </td><td> 175.5451      </td><td>12.20234       </td><td> 377.1586      </td><td> 6.753339      </td><td>-0.01795       </td><td>51.49898       </td></tr>\n",
       "\t<tr><th scope=row>155</th><td> 154           </td><td> 3413.768      </td><td>Entire home/apt</td><td>False          </td><td>False          </td><td>4              </td><td>True           </td><td>0              </td><td>0              </td><td>10             </td><td>100            </td><td>2              </td><td>4.8419929      </td><td>0.3337938      </td><td> 268.6595      </td><td>18.67482       </td><td> 639.1557      </td><td>11.444616      </td><td>-0.19700       </td><td>51.51200       </td></tr>\n",
       "\t<tr><th scope=row>4465</th><td>4464           </td><td> 3000.071      </td><td>Entire home/apt</td><td>False          </td><td>False          </td><td>6              </td><td>False          </td><td>0              </td><td>1              </td><td>10             </td><td>100            </td><td>3              </td><td>4.0718988      </td><td>0.5306749      </td><td> 364.1388      </td><td>25.31169       </td><td> 738.4377      </td><td>13.222343      </td><td>-0.18486       </td><td>51.50069       </td></tr>\n",
       "\t<tr><th scope=row>109</th><td> 108           </td><td> 2979.609      </td><td>Entire home/apt</td><td>False          </td><td>False          </td><td>6              </td><td>False          </td><td>1              </td><td>0              </td><td>10             </td><td>100            </td><td>3              </td><td>4.4965605      </td><td>0.1560689      </td><td> 245.1241      </td><td>17.03885       </td><td> 573.3697      </td><td>10.266662      </td><td>-0.10276       </td><td>51.54567       </td></tr>\n",
       "\t<tr><th scope=row>569</th><td> 568           </td><td> 2976.552      </td><td>Entire home/apt</td><td>False          </td><td>False          </td><td>6              </td><td>False          </td><td>0              </td><td>0              </td><td>10             </td><td>100            </td><td>3              </td><td>2.1737347      </td><td>0.3198207      </td><td> 478.3830      </td><td>33.25294       </td><td> 898.0532      </td><td>16.080392      </td><td>-0.14613       </td><td>51.49262       </td></tr>\n",
       "\t<tr><th scope=row>3954</th><td>3953           </td><td> 2658.811      </td><td>Entire home/apt</td><td>False          </td><td>False          </td><td>4              </td><td>False          </td><td>0              </td><td>0              </td><td> 6             </td><td> 72            </td><td>1              </td><td>3.2566692      </td><td>0.2519277      </td><td> 356.8406      </td><td>24.80438       </td><td> 765.5056      </td><td>13.707017      </td><td>-0.16871       </td><td>51.52232       </td></tr>\n",
       "\t<tr><th scope=row>2297</th><td>2296           </td><td> 2643.524      </td><td>Entire home/apt</td><td>False          </td><td>False          </td><td>4              </td><td>False          </td><td>1              </td><td>0              </td><td>10             </td><td> 97            </td><td>2              </td><td>3.8119714      </td><td>0.4524672      </td><td> 323.3477      </td><td>22.47626       </td><td> 954.3826      </td><td>17.089017      </td><td>-0.08059       </td><td>51.52612       </td></tr>\n",
       "\t<tr><th scope=row>741</th><td> 740           </td><td> 2632.235      </td><td>Entire home/apt</td><td>False          </td><td>False          </td><td>3              </td><td>False          </td><td>0              </td><td>0              </td><td> 2             </td><td> 20            </td><td>0              </td><td>5.7746133      </td><td>0.3653778      </td><td> 219.8664      </td><td>15.28316       </td><td> 466.2192      </td><td> 8.348044      </td><td>-0.05035       </td><td>51.52771       </td></tr>\n",
       "\t<tr><th scope=row>1677</th><td>1676           </td><td> 2629.883      </td><td>Entire home/apt</td><td>False          </td><td>False          </td><td>6              </td><td>False          </td><td>0              </td><td>1              </td><td>10             </td><td>100            </td><td>3              </td><td>0.2682854      </td><td>0.1996902      </td><td>1308.4174      </td><td>90.94955       </td><td>2349.3057      </td><td>42.066279      </td><td>-0.12563       </td><td>51.51043       </td></tr>\n",
       "\t<tr><th scope=row>4313</th><td>4312           </td><td> 2586.373      </td><td>Private room   </td><td>False          </td><td>True           </td><td>2              </td><td>False          </td><td>1              </td><td>0              </td><td>10             </td><td> 98            </td><td>1              </td><td>1.2305420      </td><td>0.1402051      </td><td>1423.8362      </td><td>98.97244       </td><td>1102.2479      </td><td>19.736668      </td><td>-0.13442       </td><td>51.49814       </td></tr>\n",
       "\t<tr><th scope=row>3459</th><td>3458           </td><td> 2574.614      </td><td>Entire home/apt</td><td>False          </td><td>False          </td><td>4              </td><td>False          </td><td>0              </td><td>0              </td><td>10             </td><td>100            </td><td>1              </td><td>8.2839654      </td><td>0.7317717      </td><td> 167.5892      </td><td>11.64931       </td><td> 352.0833      </td><td> 6.304345      </td><td>-0.00875       </td><td>51.50129       </td></tr>\n",
       "\t<tr><th scope=row>3771</th><td>3770           </td><td> 2416.096      </td><td>Entire home/apt</td><td>False          </td><td>False          </td><td>6              </td><td>False          </td><td>0              </td><td>1              </td><td>10             </td><td> 88            </td><td>3              </td><td>1.5919377      </td><td>0.3482694      </td><td> 565.8588      </td><td>39.33347       </td><td>1463.7591      </td><td>26.209828      </td><td>-0.14994       </td><td>51.50536       </td></tr>\n",
       "\t<tr><th scope=row>4417</th><td>4416           </td><td> 2327.665      </td><td>Entire home/apt</td><td>False          </td><td>False          </td><td>6              </td><td>False          </td><td>0              </td><td>0              </td><td>10             </td><td>100            </td><td>3              </td><td>4.6431416      </td><td>0.4245726      </td><td> 312.4827      </td><td>21.72102       </td><td> 641.9248      </td><td>11.494200      </td><td>-0.06155       </td><td>51.51520       </td></tr>\n",
       "</tbody>\n",
       "</table>\n"
      ],
      "text/latex": [
       "\\begin{tabular}{r|llllllllllllllllllll}\n",
       "  & X & realSum & room\\_type & room\\_shared & room\\_private & person\\_capacity & host\\_is\\_superhost & multi & biz & cleanliness\\_rating & guest\\_satisfaction\\_overall & bedrooms & dist & metro\\_dist & attr\\_index & attr\\_index\\_norm & rest\\_index & rest\\_index\\_norm & lng & lat\\\\\n",
       "\\hline\n",
       "\t1887 & 1886            & 15499.894       & Entire home/apt & False           & False           & 3               & True            & 0               & 1               & 10              &  95             & 3               & 0.2691010       & 0.2271933       & 1100.3917       & 76.48945        & 2358.3585       & 42.228377       & -0.13038        & 51.50995       \\\\\n",
       "\t3168 & 3167            & 12886.239       & Entire home/apt & False           & False           & 6               & False           & 0               & 0               & 10              & 100             & 2               & 2.9383263       & 0.6197170       &  386.7318       & 26.88216        &  781.5264       & 13.993882       & -0.14658        & 51.53190       \\\\\n",
       "\t3484 & 3483            & 12886.239       & Private room    & False           & True            & 2               & False           & 0               & 0               &  7              &  80             & 1               & 5.6234608       & 0.4855537       &  233.7668       & 16.24939        &  444.0518       &  7.951117       & -0.04987        & 51.49397       \\\\\n",
       "\t1379 & 1378            & 12076.954       & Private room    & False           & True            & 2               & False           & 0               & 0               &  8              &  89             & 3               & 4.3035316       & 0.7090280       &  318.8115       & 22.16094        &  666.0130       & 11.925519       & -0.18071        & 51.48849       \\\\\n",
       "\t4123 & 4122            &  7759.355       & Entire home/apt & False           & False           & 6               & False           & 0               & 0               & 10              & 100             & 3               & 1.7091286       & 0.2964712       &  626.7365       & 43.56515        & 1012.5754       & 18.131008       & -0.13984        & 51.49503       \\\\\n",
       "\t3535 & 3534            &  7223.829       & Entire home/apt & False           & False           & 4               & True            & 0               & 0               &  9              &  98             & 2               & 0.4763776       & 0.2497076       & 1098.1663       & 76.33476        & 1374.4535       & 24.610738       & -0.12335        & 51.50492       \\\\\n",
       "\t1892 & 1891            &  5166.631       & Private room    & False           & True            & 3               & True            & 0               & 1               & 10              &  99             & 2               & 0.3674286       & 0.1291938       &  973.0211       & 67.63577        & 2434.7544       & 43.596309       & -0.13217        & 51.50989       \\\\\n",
       "\t1802 & 1801            &  3874.974       & Entire home/apt & False           & False           & 2               & False           & 1               & 0               & 10              & 100             & 2               & 7.6789488       & 0.5172337       &  175.5451       & 12.20234        &  377.1586       &  6.753339       & -0.01795        & 51.49898       \\\\\n",
       "\t155 &  154            &  3413.768       & Entire home/apt & False           & False           & 4               & True            & 0               & 0               & 10              & 100             & 2               & 4.8419929       & 0.3337938       &  268.6595       & 18.67482        &  639.1557       & 11.444616       & -0.19700        & 51.51200       \\\\\n",
       "\t4465 & 4464            &  3000.071       & Entire home/apt & False           & False           & 6               & False           & 0               & 1               & 10              & 100             & 3               & 4.0718988       & 0.5306749       &  364.1388       & 25.31169        &  738.4377       & 13.222343       & -0.18486        & 51.50069       \\\\\n",
       "\t109 &  108            &  2979.609       & Entire home/apt & False           & False           & 6               & False           & 1               & 0               & 10              & 100             & 3               & 4.4965605       & 0.1560689       &  245.1241       & 17.03885        &  573.3697       & 10.266662       & -0.10276        & 51.54567       \\\\\n",
       "\t569 &  568            &  2976.552       & Entire home/apt & False           & False           & 6               & False           & 0               & 0               & 10              & 100             & 3               & 2.1737347       & 0.3198207       &  478.3830       & 33.25294        &  898.0532       & 16.080392       & -0.14613        & 51.49262       \\\\\n",
       "\t3954 & 3953            &  2658.811       & Entire home/apt & False           & False           & 4               & False           & 0               & 0               &  6              &  72             & 1               & 3.2566692       & 0.2519277       &  356.8406       & 24.80438        &  765.5056       & 13.707017       & -0.16871        & 51.52232       \\\\\n",
       "\t2297 & 2296            &  2643.524       & Entire home/apt & False           & False           & 4               & False           & 1               & 0               & 10              &  97             & 2               & 3.8119714       & 0.4524672       &  323.3477       & 22.47626        &  954.3826       & 17.089017       & -0.08059        & 51.52612       \\\\\n",
       "\t741 &  740            &  2632.235       & Entire home/apt & False           & False           & 3               & False           & 0               & 0               &  2              &  20             & 0               & 5.7746133       & 0.3653778       &  219.8664       & 15.28316        &  466.2192       &  8.348044       & -0.05035        & 51.52771       \\\\\n",
       "\t1677 & 1676            &  2629.883       & Entire home/apt & False           & False           & 6               & False           & 0               & 1               & 10              & 100             & 3               & 0.2682854       & 0.1996902       & 1308.4174       & 90.94955        & 2349.3057       & 42.066279       & -0.12563        & 51.51043       \\\\\n",
       "\t4313 & 4312            &  2586.373       & Private room    & False           & True            & 2               & False           & 1               & 0               & 10              &  98             & 1               & 1.2305420       & 0.1402051       & 1423.8362       & 98.97244        & 1102.2479       & 19.736668       & -0.13442        & 51.49814       \\\\\n",
       "\t3459 & 3458            &  2574.614       & Entire home/apt & False           & False           & 4               & False           & 0               & 0               & 10              & 100             & 1               & 8.2839654       & 0.7317717       &  167.5892       & 11.64931        &  352.0833       &  6.304345       & -0.00875        & 51.50129       \\\\\n",
       "\t3771 & 3770            &  2416.096       & Entire home/apt & False           & False           & 6               & False           & 0               & 1               & 10              &  88             & 3               & 1.5919377       & 0.3482694       &  565.8588       & 39.33347        & 1463.7591       & 26.209828       & -0.14994        & 51.50536       \\\\\n",
       "\t4417 & 4416            &  2327.665       & Entire home/apt & False           & False           & 6               & False           & 0               & 0               & 10              & 100             & 3               & 4.6431416       & 0.4245726       &  312.4827       & 21.72102        &  641.9248       & 11.494200       & -0.06155        & 51.51520       \\\\\n",
       "\\end{tabular}\n"
      ],
      "text/markdown": [
       "\n",
       "| <!--/--> | X | realSum | room_type | room_shared | room_private | person_capacity | host_is_superhost | multi | biz | cleanliness_rating | guest_satisfaction_overall | bedrooms | dist | metro_dist | attr_index | attr_index_norm | rest_index | rest_index_norm | lng | lat |\n",
       "|---|---|---|---|---|---|---|---|---|---|---|---|---|---|---|---|---|---|---|---|---|\n",
       "| 1887 | 1886            | 15499.894       | Entire home/apt | False           | False           | 3               | True            | 0               | 1               | 10              |  95             | 3               | 0.2691010       | 0.2271933       | 1100.3917       | 76.48945        | 2358.3585       | 42.228377       | -0.13038        | 51.50995        |\n",
       "| 3168 | 3167            | 12886.239       | Entire home/apt | False           | False           | 6               | False           | 0               | 0               | 10              | 100             | 2               | 2.9383263       | 0.6197170       |  386.7318       | 26.88216        |  781.5264       | 13.993882       | -0.14658        | 51.53190        |\n",
       "| 3484 | 3483            | 12886.239       | Private room    | False           | True            | 2               | False           | 0               | 0               |  7              |  80             | 1               | 5.6234608       | 0.4855537       |  233.7668       | 16.24939        |  444.0518       |  7.951117       | -0.04987        | 51.49397        |\n",
       "| 1379 | 1378            | 12076.954       | Private room    | False           | True            | 2               | False           | 0               | 0               |  8              |  89             | 3               | 4.3035316       | 0.7090280       |  318.8115       | 22.16094        |  666.0130       | 11.925519       | -0.18071        | 51.48849        |\n",
       "| 4123 | 4122            |  7759.355       | Entire home/apt | False           | False           | 6               | False           | 0               | 0               | 10              | 100             | 3               | 1.7091286       | 0.2964712       |  626.7365       | 43.56515        | 1012.5754       | 18.131008       | -0.13984        | 51.49503        |\n",
       "| 3535 | 3534            |  7223.829       | Entire home/apt | False           | False           | 4               | True            | 0               | 0               |  9              |  98             | 2               | 0.4763776       | 0.2497076       | 1098.1663       | 76.33476        | 1374.4535       | 24.610738       | -0.12335        | 51.50492        |\n",
       "| 1892 | 1891            |  5166.631       | Private room    | False           | True            | 3               | True            | 0               | 1               | 10              |  99             | 2               | 0.3674286       | 0.1291938       |  973.0211       | 67.63577        | 2434.7544       | 43.596309       | -0.13217        | 51.50989        |\n",
       "| 1802 | 1801            |  3874.974       | Entire home/apt | False           | False           | 2               | False           | 1               | 0               | 10              | 100             | 2               | 7.6789488       | 0.5172337       |  175.5451       | 12.20234        |  377.1586       |  6.753339       | -0.01795        | 51.49898        |\n",
       "| 155 |  154            |  3413.768       | Entire home/apt | False           | False           | 4               | True            | 0               | 0               | 10              | 100             | 2               | 4.8419929       | 0.3337938       |  268.6595       | 18.67482        |  639.1557       | 11.444616       | -0.19700        | 51.51200        |\n",
       "| 4465 | 4464            |  3000.071       | Entire home/apt | False           | False           | 6               | False           | 0               | 1               | 10              | 100             | 3               | 4.0718988       | 0.5306749       |  364.1388       | 25.31169        |  738.4377       | 13.222343       | -0.18486        | 51.50069        |\n",
       "| 109 |  108            |  2979.609       | Entire home/apt | False           | False           | 6               | False           | 1               | 0               | 10              | 100             | 3               | 4.4965605       | 0.1560689       |  245.1241       | 17.03885        |  573.3697       | 10.266662       | -0.10276        | 51.54567        |\n",
       "| 569 |  568            |  2976.552       | Entire home/apt | False           | False           | 6               | False           | 0               | 0               | 10              | 100             | 3               | 2.1737347       | 0.3198207       |  478.3830       | 33.25294        |  898.0532       | 16.080392       | -0.14613        | 51.49262        |\n",
       "| 3954 | 3953            |  2658.811       | Entire home/apt | False           | False           | 4               | False           | 0               | 0               |  6              |  72             | 1               | 3.2566692       | 0.2519277       |  356.8406       | 24.80438        |  765.5056       | 13.707017       | -0.16871        | 51.52232        |\n",
       "| 2297 | 2296            |  2643.524       | Entire home/apt | False           | False           | 4               | False           | 1               | 0               | 10              |  97             | 2               | 3.8119714       | 0.4524672       |  323.3477       | 22.47626        |  954.3826       | 17.089017       | -0.08059        | 51.52612        |\n",
       "| 741 |  740            |  2632.235       | Entire home/apt | False           | False           | 3               | False           | 0               | 0               |  2              |  20             | 0               | 5.7746133       | 0.3653778       |  219.8664       | 15.28316        |  466.2192       |  8.348044       | -0.05035        | 51.52771        |\n",
       "| 1677 | 1676            |  2629.883       | Entire home/apt | False           | False           | 6               | False           | 0               | 1               | 10              | 100             | 3               | 0.2682854       | 0.1996902       | 1308.4174       | 90.94955        | 2349.3057       | 42.066279       | -0.12563        | 51.51043        |\n",
       "| 4313 | 4312            |  2586.373       | Private room    | False           | True            | 2               | False           | 1               | 0               | 10              |  98             | 1               | 1.2305420       | 0.1402051       | 1423.8362       | 98.97244        | 1102.2479       | 19.736668       | -0.13442        | 51.49814        |\n",
       "| 3459 | 3458            |  2574.614       | Entire home/apt | False           | False           | 4               | False           | 0               | 0               | 10              | 100             | 1               | 8.2839654       | 0.7317717       |  167.5892       | 11.64931        |  352.0833       |  6.304345       | -0.00875        | 51.50129        |\n",
       "| 3771 | 3770            |  2416.096       | Entire home/apt | False           | False           | 6               | False           | 0               | 1               | 10              |  88             | 3               | 1.5919377       | 0.3482694       |  565.8588       | 39.33347        | 1463.7591       | 26.209828       | -0.14994        | 51.50536        |\n",
       "| 4417 | 4416            |  2327.665       | Entire home/apt | False           | False           | 6               | False           | 0               | 0               | 10              | 100             | 3               | 4.6431416       | 0.4245726       |  312.4827       | 21.72102        |  641.9248       | 11.494200       | -0.06155        | 51.51520        |\n",
       "\n"
      ],
      "text/plain": [
       "     X    realSum   room_type       room_shared room_private person_capacity\n",
       "1887 1886 15499.894 Entire home/apt False       False        3              \n",
       "3168 3167 12886.239 Entire home/apt False       False        6              \n",
       "3484 3483 12886.239 Private room    False       True         2              \n",
       "1379 1378 12076.954 Private room    False       True         2              \n",
       "4123 4122  7759.355 Entire home/apt False       False        6              \n",
       "3535 3534  7223.829 Entire home/apt False       False        4              \n",
       "1892 1891  5166.631 Private room    False       True         3              \n",
       "1802 1801  3874.974 Entire home/apt False       False        2              \n",
       "155   154  3413.768 Entire home/apt False       False        4              \n",
       "4465 4464  3000.071 Entire home/apt False       False        6              \n",
       "109   108  2979.609 Entire home/apt False       False        6              \n",
       "569   568  2976.552 Entire home/apt False       False        6              \n",
       "3954 3953  2658.811 Entire home/apt False       False        4              \n",
       "2297 2296  2643.524 Entire home/apt False       False        4              \n",
       "741   740  2632.235 Entire home/apt False       False        3              \n",
       "1677 1676  2629.883 Entire home/apt False       False        6              \n",
       "4313 4312  2586.373 Private room    False       True         2              \n",
       "3459 3458  2574.614 Entire home/apt False       False        4              \n",
       "3771 3770  2416.096 Entire home/apt False       False        6              \n",
       "4417 4416  2327.665 Entire home/apt False       False        6              \n",
       "     host_is_superhost multi biz cleanliness_rating guest_satisfaction_overall\n",
       "1887 True              0     1   10                  95                       \n",
       "3168 False             0     0   10                 100                       \n",
       "3484 False             0     0    7                  80                       \n",
       "1379 False             0     0    8                  89                       \n",
       "4123 False             0     0   10                 100                       \n",
       "3535 True              0     0    9                  98                       \n",
       "1892 True              0     1   10                  99                       \n",
       "1802 False             1     0   10                 100                       \n",
       "155  True              0     0   10                 100                       \n",
       "4465 False             0     1   10                 100                       \n",
       "109  False             1     0   10                 100                       \n",
       "569  False             0     0   10                 100                       \n",
       "3954 False             0     0    6                  72                       \n",
       "2297 False             1     0   10                  97                       \n",
       "741  False             0     0    2                  20                       \n",
       "1677 False             0     1   10                 100                       \n",
       "4313 False             1     0   10                  98                       \n",
       "3459 False             0     0   10                 100                       \n",
       "3771 False             0     1   10                  88                       \n",
       "4417 False             0     0   10                 100                       \n",
       "     bedrooms dist      metro_dist attr_index attr_index_norm rest_index\n",
       "1887 3        0.2691010 0.2271933  1100.3917  76.48945        2358.3585 \n",
       "3168 2        2.9383263 0.6197170   386.7318  26.88216         781.5264 \n",
       "3484 1        5.6234608 0.4855537   233.7668  16.24939         444.0518 \n",
       "1379 3        4.3035316 0.7090280   318.8115  22.16094         666.0130 \n",
       "4123 3        1.7091286 0.2964712   626.7365  43.56515        1012.5754 \n",
       "3535 2        0.4763776 0.2497076  1098.1663  76.33476        1374.4535 \n",
       "1892 2        0.3674286 0.1291938   973.0211  67.63577        2434.7544 \n",
       "1802 2        7.6789488 0.5172337   175.5451  12.20234         377.1586 \n",
       "155  2        4.8419929 0.3337938   268.6595  18.67482         639.1557 \n",
       "4465 3        4.0718988 0.5306749   364.1388  25.31169         738.4377 \n",
       "109  3        4.4965605 0.1560689   245.1241  17.03885         573.3697 \n",
       "569  3        2.1737347 0.3198207   478.3830  33.25294         898.0532 \n",
       "3954 1        3.2566692 0.2519277   356.8406  24.80438         765.5056 \n",
       "2297 2        3.8119714 0.4524672   323.3477  22.47626         954.3826 \n",
       "741  0        5.7746133 0.3653778   219.8664  15.28316         466.2192 \n",
       "1677 3        0.2682854 0.1996902  1308.4174  90.94955        2349.3057 \n",
       "4313 1        1.2305420 0.1402051  1423.8362  98.97244        1102.2479 \n",
       "3459 1        8.2839654 0.7317717   167.5892  11.64931         352.0833 \n",
       "3771 3        1.5919377 0.3482694   565.8588  39.33347        1463.7591 \n",
       "4417 3        4.6431416 0.4245726   312.4827  21.72102         641.9248 \n",
       "     rest_index_norm lng      lat     \n",
       "1887 42.228377       -0.13038 51.50995\n",
       "3168 13.993882       -0.14658 51.53190\n",
       "3484  7.951117       -0.04987 51.49397\n",
       "1379 11.925519       -0.18071 51.48849\n",
       "4123 18.131008       -0.13984 51.49503\n",
       "3535 24.610738       -0.12335 51.50492\n",
       "1892 43.596309       -0.13217 51.50989\n",
       "1802  6.753339       -0.01795 51.49898\n",
       "155  11.444616       -0.19700 51.51200\n",
       "4465 13.222343       -0.18486 51.50069\n",
       "109  10.266662       -0.10276 51.54567\n",
       "569  16.080392       -0.14613 51.49262\n",
       "3954 13.707017       -0.16871 51.52232\n",
       "2297 17.089017       -0.08059 51.52612\n",
       "741   8.348044       -0.05035 51.52771\n",
       "1677 42.066279       -0.12563 51.51043\n",
       "4313 19.736668       -0.13442 51.49814\n",
       "3459  6.304345       -0.00875 51.50129\n",
       "3771 26.209828       -0.14994 51.50536\n",
       "4417 11.494200       -0.06155 51.51520"
      ]
     },
     "metadata": {},
     "output_type": "display_data"
    }
   ],
   "source": [
    "#Shows the room_type with the highest prices\n",
    "outlierprices <- london_weekday[order(london_weekday$realSum,decreasing=TRUE),]\n",
    "head(outlierprices,n=20)"
   ]
  },
  {
   "cell_type": "markdown",
   "id": "16382abf",
   "metadata": {},
   "source": [
    "#### Filter data structure to include private and share rooms only"
   ]
  },
  {
   "cell_type": "code",
   "execution_count": 6,
   "id": "62edb8cd",
   "metadata": {},
   "outputs": [],
   "source": [
    "london_weekday_private_shared <- subset(london_weekday, (london_weekday$room_type=='Private room' | london_weekday$room_type=='Shared room'))\n",
    "london_weekend_private_shared <- subset(london_weekend, (london_weekend$room_type=='Private room' | london_weekend$room_type=='Shared room'))"
   ]
  },
  {
   "cell_type": "markdown",
   "id": "fe01d384",
   "metadata": {},
   "source": [
    "#### Function to find lower and upper quartiles to remove outliers"
   ]
  },
  {
   "cell_type": "code",
   "execution_count": 7,
   "id": "52fd02d3",
   "metadata": {},
   "outputs": [],
   "source": [
    "outlierData <- function(data){\n",
    "    quartiles <- quantile(data, probs=c(.25, .75), na.rm = FALSE)    \n",
    "    IQR <- IQR(data)\n",
    "    Lower <- quartiles[1] - 1.5*IQR\n",
    "    Upper <- quartiles[2] + 1.5*IQR \n",
    "    output <- list(Lower, Upper)\n",
    "    return (output)}"
   ]
  },
  {
   "cell_type": "code",
   "execution_count": 8,
   "id": "3e47d7e9",
   "metadata": {},
   "outputs": [],
   "source": [
    "weekday_outlier <- outlierData(london_weekday_private_shared$realSum)\n",
    "weekend_outlier <- outlierData(london_weekend_private_shared$realSum)"
   ]
  },
  {
   "cell_type": "code",
   "execution_count": 9,
   "id": "23e2513e",
   "metadata": {},
   "outputs": [],
   "source": [
    "#Remove outliers from dataset\n",
    "london_weekday_cleaned <- subset(london_weekday_private_shared, \n",
    "                                      realSum > weekday_outlier[1] &\n",
    "                                       realSum < weekday_outlier[2])\n",
    "london_weekend_cleaned <- subset(london_weekend_private_shared, \n",
    "                                      realSum > weekend_outlier[1] &\n",
    "                                       realSum < weekend_outlier[2])"
   ]
  },
  {
   "cell_type": "markdown",
   "id": "de882ad0",
   "metadata": {},
   "source": [
    "### Plot before and after removal of outliers"
   ]
  },
  {
   "cell_type": "markdown",
   "id": "e36c2f9a",
   "metadata": {},
   "source": [
    "#### Histogram"
   ]
  },
  {
   "cell_type": "code",
   "execution_count": 10,
   "id": "cb2840dc",
   "metadata": {},
   "outputs": [
    {
     "data": {
      "image/png": "[encoded data removed]",
      "text/plain": [
       "Plot with title \"Weekend: Log(Prices) histogram\""
      ]
     },
     "metadata": {},
     "output_type": "display_data"
    }
   ],
   "source": [
    "par(mfrow=c(2,2))\n",
    "#Weekday: With log transform \n",
    "price_weekday <- log(london_weekday_private_shared$realSum)\n",
    "hist(price_weekday, col = \"lightblue\"\n",
    ", xlab = \"Weekday: Log(Prices)\"\n",
    ", main = 'Weekday: Log(Prices) histogram',breaks=10)\n",
    "\n",
    "#Weekday: With log transform + remove outliers\n",
    "price_weekday_cleaned <- log(london_weekday_cleaned$realSum)\n",
    "hist(price_weekday_cleaned, col = \"blue\"\n",
    ", xlab = \"Weekday: Log(Prices)\"\n",
    ", main = 'Weekday: Log(Prices) histogram',breaks=10)\n",
    "\n",
    "#Weekday: With log transform \n",
    "price_weekday <- log(london_weekend_private_shared$realSum)\n",
    "hist(price_weekday, col = \"lightblue\"\n",
    ", xlab = \"Weekend: Log(Prices)\"\n",
    ", main = 'Weekend: Log(Prices) histogram',breaks=10)\n",
    "\n",
    "#Weekday: With log transform + remove outliers\n",
    "price_weekday_cleaned <- log(london_weekend_cleaned$realSum)\n",
    "hist(price_weekday_cleaned, col = \"blue\"\n",
    ", xlab = \"Weekend: Log(Prices)\"\n",
    ", main = 'Weekend: Log(Prices) histogram',breaks=10)\n"
   ]
  },
  {
   "cell_type": "markdown",
   "id": "3a61cf1e",
   "metadata": {},
   "source": [
    "#### Boxplot"
   ]
  },
  {
   "cell_type": "code",
   "execution_count": 11,
   "id": "06a26f5e",
   "metadata": {},
   "outputs": [
    {
     "data": {
      "image/png": "[encoded data removed]",
      "text/plain": [
       "Plot with title \"Weekend: Log(Prices) cleaned\""
      ]
     },
     "metadata": {},
     "output_type": "display_data"
    }
   ],
   "source": [
    "par(mfrow=c(2,2))\n",
    "#Weekday prices\n",
    "boxplot(log(london_weekday_private_shared$realSum), main=\"Weekday: Log(Prices)\")\n",
    "boxplot(log(london_weekday_cleaned$realSum), main=\"Weekday: Log(Prices) cleaned\")\n",
    "#Weekend prices\n",
    "boxplot(log(london_weekend_private_shared$realSum), main=\"Weekend: Log(Prices)\")\n",
    "boxplot(log(london_weekend_cleaned$realSum), main=\"Weekend: Log(Prices) cleaned\")"
   ]
  },
  {
   "cell_type": "markdown",
   "id": "21ecfb98",
   "metadata": {},
   "source": [
    "### Write cleaned data to csv file"
   ]
  },
  {
   "cell_type": "code",
   "execution_count": 12,
   "id": "c59de98e",
   "metadata": {},
   "outputs": [],
   "source": [
    "write.csv(london_weekday_cleaned, 'london_weekday_cleaned.csv', row.names=FALSE)\n",
    "write.csv(london_weekend_cleaned, 'london_weekend_cleaned.csv', row.names=FALSE)"
   ]
  }
 ],
 "metadata": {
  "kernelspec": {
   "display_name": "R",
   "language": "R",
   "name": "ir"
  },
  "language_info": {
   "codemirror_mode": "r",
   "file_extension": ".r",
   "mimetype": "text/x-r-source",
   "name": "R",
   "pygments_lexer": "r",
   "version": "3.6.1"
  }
 },
 "nbformat": 4,
 "nbformat_minor": 5
}
