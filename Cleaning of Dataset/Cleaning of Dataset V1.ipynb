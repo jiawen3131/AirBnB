{
 "cells": [
  {
   "cell_type": "markdown",
   "id": "a346fcab",
   "metadata": {},
   "source": [
    "# Cleaning of Dataset"
   ]
  },
  {
   "cell_type": "markdown",
   "id": "b56cc798",
   "metadata": {},
   "source": [
    "### Read Data"
   ]
  },
  {
   "cell_type": "code",
   "execution_count": 1,
   "id": "dc5a9675",
   "metadata": {},
   "outputs": [],
   "source": [
    "data_london_weekday <- read.csv('data/london_weekdays.csv')"
   ]
  },
  {
   "cell_type": "code",
   "execution_count": 11,
   "id": "2aa62024",
   "metadata": {},
   "outputs": [
    {
     "data": {
      "text/html": [
       "<table>\n",
       "<thead><tr><th scope=col>X</th><th scope=col>realSum</th><th scope=col>room_type</th><th scope=col>room_shared</th><th scope=col>room_private</th><th scope=col>person_capacity</th><th scope=col>host_is_superhost</th><th scope=col>multi</th><th scope=col>biz</th><th scope=col>cleanliness_rating</th><th scope=col>guest_satisfaction_overall</th><th scope=col>bedrooms</th><th scope=col>dist</th><th scope=col>metro_dist</th><th scope=col>attr_index</th><th scope=col>attr_index_norm</th><th scope=col>rest_index</th><th scope=col>rest_index_norm</th><th scope=col>lng</th><th scope=col>lat</th></tr></thead>\n",
       "<tbody>\n",
       "\t<tr><td>0              </td><td>570.0981       </td><td>Entire home/apt</td><td>False          </td><td>False          </td><td>2              </td><td>False          </td><td>0              </td><td>0              </td><td>10             </td><td> 98            </td><td>1              </td><td>5.301018       </td><td>1.5889904      </td><td>209.6326       </td><td>14.57179       </td><td>467.5975       </td><td> 8.372724      </td><td>-0.16032       </td><td>51.46531       </td></tr>\n",
       "\t<tr><td>1              </td><td>297.9844       </td><td>Private room   </td><td>False          </td><td>True           </td><td>2              </td><td>True           </td><td>1              </td><td>0              </td><td>10             </td><td> 99            </td><td>1              </td><td>2.198946       </td><td>0.3792620      </td><td>553.8917       </td><td>38.50163       </td><td>961.4721       </td><td>17.215961      </td><td>-0.09683       </td><td>51.50343       </td></tr>\n",
       "\t<tr><td>2              </td><td>336.7906       </td><td>Private room   </td><td>False          </td><td>True           </td><td>2              </td><td>False          </td><td>1              </td><td>0              </td><td>10             </td><td> 96            </td><td>1              </td><td>2.322958       </td><td>0.4531776      </td><td>428.2878       </td><td>29.77076       </td><td>959.0428       </td><td>17.172462      </td><td>-0.10554       </td><td>51.52407       </td></tr>\n",
       "\t<tr><td>3              </td><td>226.7222       </td><td>Private room   </td><td>False          </td><td>True           </td><td>2              </td><td>True           </td><td>1              </td><td>0              </td><td>10             </td><td> 99            </td><td>1              </td><td>5.707825       </td><td>1.7239771      </td><td>195.6947       </td><td>13.60296       </td><td>452.2325       </td><td> 8.097600      </td><td>-0.16575       </td><td>51.46292       </td></tr>\n",
       "\t<tr><td>4              </td><td>256.3560       </td><td>Private room   </td><td>False          </td><td>True           </td><td>3              </td><td>False          </td><td>0              </td><td>0              </td><td> 9             </td><td> 98            </td><td>1              </td><td>3.257945       </td><td>0.8254172      </td><td>329.4771       </td><td>22.90232       </td><td>735.3273       </td><td>13.166649      </td><td>-0.12055       </td><td>51.53728       </td></tr>\n",
       "\t<tr><td>5              </td><td>239.8928       </td><td>Private room   </td><td>False          </td><td>True           </td><td>2              </td><td>False          </td><td>0              </td><td>0              </td><td>10             </td><td>100            </td><td>1              </td><td>5.085730       </td><td>1.8062181      </td><td>226.7250       </td><td>15.75990       </td><td>486.7371       </td><td> 8.715433      </td><td>-0.17241       </td><td>51.47222       </td></tr>\n",
       "</tbody>\n",
       "</table>\n"
      ],
      "text/latex": [
       "\\begin{tabular}{r|llllllllllllllllllll}\n",
       " X & realSum & room\\_type & room\\_shared & room\\_private & person\\_capacity & host\\_is\\_superhost & multi & biz & cleanliness\\_rating & guest\\_satisfaction\\_overall & bedrooms & dist & metro\\_dist & attr\\_index & attr\\_index\\_norm & rest\\_index & rest\\_index\\_norm & lng & lat\\\\\n",
       "\\hline\n",
       "\t 0               & 570.0981        & Entire home/apt & False           & False           & 2               & False           & 0               & 0               & 10              &  98             & 1               & 5.301018        & 1.5889904       & 209.6326        & 14.57179        & 467.5975        &  8.372724       & -0.16032        & 51.46531       \\\\\n",
       "\t 1               & 297.9844        & Private room    & False           & True            & 2               & True            & 1               & 0               & 10              &  99             & 1               & 2.198946        & 0.3792620       & 553.8917        & 38.50163        & 961.4721        & 17.215961       & -0.09683        & 51.50343       \\\\\n",
       "\t 2               & 336.7906        & Private room    & False           & True            & 2               & False           & 1               & 0               & 10              &  96             & 1               & 2.322958        & 0.4531776       & 428.2878        & 29.77076        & 959.0428        & 17.172462       & -0.10554        & 51.52407       \\\\\n",
       "\t 3               & 226.7222        & Private room    & False           & True            & 2               & True            & 1               & 0               & 10              &  99             & 1               & 5.707825        & 1.7239771       & 195.6947        & 13.60296        & 452.2325        &  8.097600       & -0.16575        & 51.46292       \\\\\n",
       "\t 4               & 256.3560        & Private room    & False           & True            & 3               & False           & 0               & 0               &  9              &  98             & 1               & 3.257945        & 0.8254172       & 329.4771        & 22.90232        & 735.3273        & 13.166649       & -0.12055        & 51.53728       \\\\\n",
       "\t 5               & 239.8928        & Private room    & False           & True            & 2               & False           & 0               & 0               & 10              & 100             & 1               & 5.085730        & 1.8062181       & 226.7250        & 15.75990        & 486.7371        &  8.715433       & -0.17241        & 51.47222       \\\\\n",
       "\\end{tabular}\n"
      ],
      "text/markdown": [
       "\n",
       "| X | realSum | room_type | room_shared | room_private | person_capacity | host_is_superhost | multi | biz | cleanliness_rating | guest_satisfaction_overall | bedrooms | dist | metro_dist | attr_index | attr_index_norm | rest_index | rest_index_norm | lng | lat |\n",
       "|---|---|---|---|---|---|---|---|---|---|---|---|---|---|---|---|---|---|---|---|\n",
       "| 0               | 570.0981        | Entire home/apt | False           | False           | 2               | False           | 0               | 0               | 10              |  98             | 1               | 5.301018        | 1.5889904       | 209.6326        | 14.57179        | 467.5975        |  8.372724       | -0.16032        | 51.46531        |\n",
       "| 1               | 297.9844        | Private room    | False           | True            | 2               | True            | 1               | 0               | 10              |  99             | 1               | 2.198946        | 0.3792620       | 553.8917        | 38.50163        | 961.4721        | 17.215961       | -0.09683        | 51.50343        |\n",
       "| 2               | 336.7906        | Private room    | False           | True            | 2               | False           | 1               | 0               | 10              |  96             | 1               | 2.322958        | 0.4531776       | 428.2878        | 29.77076        | 959.0428        | 17.172462       | -0.10554        | 51.52407        |\n",
       "| 3               | 226.7222        | Private room    | False           | True            | 2               | True            | 1               | 0               | 10              |  99             | 1               | 5.707825        | 1.7239771       | 195.6947        | 13.60296        | 452.2325        |  8.097600       | -0.16575        | 51.46292        |\n",
       "| 4               | 256.3560        | Private room    | False           | True            | 3               | False           | 0               | 0               |  9              |  98             | 1               | 3.257945        | 0.8254172       | 329.4771        | 22.90232        | 735.3273        | 13.166649       | -0.12055        | 51.53728        |\n",
       "| 5               | 239.8928        | Private room    | False           | True            | 2               | False           | 0               | 0               | 10              | 100             | 1               | 5.085730        | 1.8062181       | 226.7250        | 15.75990        | 486.7371        |  8.715433       | -0.17241        | 51.47222        |\n",
       "\n"
      ],
      "text/plain": [
       "  X realSum  room_type       room_shared room_private person_capacity\n",
       "1 0 570.0981 Entire home/apt False       False        2              \n",
       "2 1 297.9844 Private room    False       True         2              \n",
       "3 2 336.7906 Private room    False       True         2              \n",
       "4 3 226.7222 Private room    False       True         2              \n",
       "5 4 256.3560 Private room    False       True         3              \n",
       "6 5 239.8928 Private room    False       True         2              \n",
       "  host_is_superhost multi biz cleanliness_rating guest_satisfaction_overall\n",
       "1 False             0     0   10                  98                       \n",
       "2 True              1     0   10                  99                       \n",
       "3 False             1     0   10                  96                       \n",
       "4 True              1     0   10                  99                       \n",
       "5 False             0     0    9                  98                       \n",
       "6 False             0     0   10                 100                       \n",
       "  bedrooms dist     metro_dist attr_index attr_index_norm rest_index\n",
       "1 1        5.301018 1.5889904  209.6326   14.57179        467.5975  \n",
       "2 1        2.198946 0.3792620  553.8917   38.50163        961.4721  \n",
       "3 1        2.322958 0.4531776  428.2878   29.77076        959.0428  \n",
       "4 1        5.707825 1.7239771  195.6947   13.60296        452.2325  \n",
       "5 1        3.257945 0.8254172  329.4771   22.90232        735.3273  \n",
       "6 1        5.085730 1.8062181  226.7250   15.75990        486.7371  \n",
       "  rest_index_norm lng      lat     \n",
       "1  8.372724       -0.16032 51.46531\n",
       "2 17.215961       -0.09683 51.50343\n",
       "3 17.172462       -0.10554 51.52407\n",
       "4  8.097600       -0.16575 51.46292\n",
       "5 13.166649       -0.12055 51.53728\n",
       "6  8.715433       -0.17241 51.47222"
      ]
     },
     "metadata": {},
     "output_type": "display_data"
    }
   ],
   "source": [
    "head(data_london_weekday)"
   ]
  },
  {
   "cell_type": "markdown",
   "id": "11ac4c9e",
   "metadata": {},
   "source": [
    "### Visualise Data\n",
    "Note that data seems skewed, hence apply log transformation"
   ]
  },
  {
   "cell_type": "code",
   "execution_count": 2,
   "id": "b83a4836",
   "metadata": {},
   "outputs": [
    {
     "data": {
      "image/png": "[encoded data removed]",
      "text/plain": [
       "Plot with title \"Log(Prices) histogram\""
      ]
     },
     "metadata": {},
     "output_type": "display_data"
    }
   ],
   "source": [
    "par(mfrow=c(1,2))\n",
    "\n",
    "#Without log transform\n",
    "price_weekday <- data_london_weekday$realSum\n",
    "hist(price_weekday, col = \"lightblue\"\n",
    ", xlab = \"Log(Prices)\"\n",
    ", main = 'Prices histogram',breaks=100)\n",
    "\n",
    "#With log transform\n",
    "price_weekend <- log(data_london_weekday$realSum)\n",
    "hist(price_weekend, col = \"blue\"\n",
    ", xlab = \"Log(Prices)\"\n",
    ", main = 'Log(Prices) histogram',breaks=100)"
   ]
  },
  {
   "cell_type": "markdown",
   "id": "38b9dd67",
   "metadata": {},
   "source": [
    "### Remove Outliers\n",
    "Note that even after log transformation is applied, some outliers exist. Hence, remove outliers that that are outside the 1.5*IQR range"
   ]
  },
  {
   "cell_type": "markdown",
   "id": "fe01d384",
   "metadata": {},
   "source": [
    "#### Function to find lower and upper quartiles to remove outliers"
   ]
  },
  {
   "cell_type": "code",
   "execution_count": 3,
   "id": "52fd02d3",
   "metadata": {},
   "outputs": [],
   "source": [
    "outlierData <- function(data){\n",
    "    quartiles <- quantile(data, probs=c(.25, .75), na.rm = FALSE)    \n",
    "    IQR <- IQR(data)\n",
    "    Lower <- quartiles[1] - 1.5*IQR\n",
    "    Upper <- quartiles[2] + 1.5*IQR \n",
    "    output <- list(Lower, Upper)\n",
    "    return (output)}"
   ]
  },
  {
   "cell_type": "code",
   "execution_count": 4,
   "id": "ec9798ca",
   "metadata": {},
   "outputs": [
    {
     "data": {
      "text/html": [
       "<ol>\n",
       "\t<li><strong>25%:</strong> 3.68720190028708</li>\n",
       "\t<li><strong>75%:</strong> 7.50989541832992</li>\n",
       "</ol>\n"
      ],
      "text/latex": [
       "\\begin{enumerate}\n",
       "\\item \\textbf{25\\textbackslash{}\\%:} 3.68720190028708\n",
       "\\item \\textbf{75\\textbackslash{}\\%:} 7.50989541832992\n",
       "\\end{enumerate}\n"
      ],
      "text/markdown": [
       "1. **25%:** 3.68720190028708\n",
       "2. **75%:** 7.50989541832992\n",
       "\n",
       "\n"
      ],
      "text/plain": [
       "[[1]]\n",
       "     25% \n",
       "3.687202 \n",
       "\n",
       "[[2]]\n",
       "     75% \n",
       "7.509895 \n"
      ]
     },
     "metadata": {},
     "output_type": "display_data"
    }
   ],
   "source": [
    "#Get lower and upper quartile of price data\n",
    "lowerUpperRange <- outlierData(log(data_london_weekday$realSum))\n",
    "lowerUpperRange"
   ]
  },
  {
   "cell_type": "code",
   "execution_count": 5,
   "id": "3e47d7e9",
   "metadata": {},
   "outputs": [],
   "source": [
    "#Remove outliers from dataset\n",
    "data_london_weekday_cleaned <- subset(data_london_weekday, \n",
    "                                      log(realSum) > lowerUpperRange[1] &\n",
    "                                       log(realSum) < lowerUpperRange[2])"
   ]
  },
  {
   "cell_type": "markdown",
   "id": "de882ad0",
   "metadata": {},
   "source": [
    "### Plot before and after removal of outliers"
   ]
  },
  {
   "cell_type": "markdown",
   "id": "e36c2f9a",
   "metadata": {},
   "source": [
    "#### Histogram"
   ]
  },
  {
   "cell_type": "code",
   "execution_count": 6,
   "id": "cb2840dc",
   "metadata": {},
   "outputs": [
    {
     "data": {
      "image/png": "[encoded data removed]",
      "text/plain": [
       "Plot with title \"Log(Prices) histogram\""
      ]
     },
     "metadata": {},
     "output_type": "display_data"
    }
   ],
   "source": [
    "par(mfrow=c(1,2))\n",
    "#With log transform \n",
    "price_weekday <- log(data_london_weekday$realSum)\n",
    "hist(price_weekday, col = \"lightblue\"\n",
    ", xlab = \"Log(Prices)\"\n",
    ", main = 'Log(Prices) histogram',breaks=10)\n",
    "\n",
    "#With log transform + remove outliers\n",
    "price_weekend <- log(data_london_weekday_cleaned$realSum)\n",
    "hist(price_weekend, col = \"blue\"\n",
    ", xlab = \"Log(Prices)\"\n",
    ", main = 'Log(Prices) histogram',breaks=10)"
   ]
  },
  {
   "cell_type": "markdown",
   "id": "3a61cf1e",
   "metadata": {},
   "source": [
    "#### Boxplot"
   ]
  },
  {
   "cell_type": "code",
   "execution_count": 7,
   "id": "06a26f5e",
   "metadata": {},
   "outputs": [
    {
     "data": {
      "image/png": "[encoded data removed]",
      "text/plain": [
       "plot without title"
      ]
     },
     "metadata": {},
     "output_type": "display_data"
    }
   ],
   "source": [
    "par(mfrow=c(1,2))\n",
    "boxplot(log(data_london_weekday$realSum))\n",
    "boxplot(log(data_london_weekday_cleaned$realSum))"
   ]
  },
  {
   "cell_type": "markdown",
   "id": "21ecfb98",
   "metadata": {},
   "source": [
    "### Write cleaned data to csv file"
   ]
  },
  {
   "cell_type": "code",
   "execution_count": 8,
   "id": "c59de98e",
   "metadata": {},
   "outputs": [],
   "source": [
    "write.csv(data_london_weekday_cleaned, 'london_weekday_cleaned.csv', row.names=FALSE)"
   ]
  }
 ],
 "metadata": {
  "kernelspec": {
   "display_name": "R",
   "language": "R",
   "name": "ir"
  },
  "language_info": {
   "codemirror_mode": "r",
   "file_extension": ".r",
   "mimetype": "text/x-r-source",
   "name": "R",
   "pygments_lexer": "r",
   "version": "3.6.1"
  }
 },
 "nbformat": 4,
 "nbformat_minor": 5
}
